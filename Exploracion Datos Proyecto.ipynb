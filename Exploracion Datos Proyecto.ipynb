{
 "cells": [
  {
   "cell_type": "markdown",
   "id": "76e25133",
   "metadata": {},
   "source": [
    "# Análisis Exploratorio de Datos\n",
    "El siguiente informe muestra el comportamiento de las variables seleccionadas del conjunto de datos *Predict students dropout and academic success* para modelar el comportamiento de el éxito o deserción universitaria a través de una red bayesiana. Con los resultados encontrados cualquier universidad podrá contar con un modelo predictivo con el fin de generar estrategias que le permitan disminuir y prevenir de manera proactiva la deserción. \n",
    "\n",
    "Para la lectura y manipulación de los datos se utilizó la librería pandas."
   ]
  },
  {
   "cell_type": "code",
   "execution_count": 31,
   "id": "f1ad3fe9",
   "metadata": {},
   "outputs": [],
   "source": [
    "#Importar librerías\n",
    "import numpy as np\n",
    "import pandas as pd\n",
    "import seaborn as sns"
   ]
  },
  {
   "cell_type": "code",
   "execution_count": 32,
   "id": "ebffb5b3",
   "metadata": {},
   "outputs": [],
   "source": [
    "#Lectura de los datos\n",
    "df = pd.read_csv('data.csv', sep=';')"
   ]
  },
  {
   "cell_type": "markdown",
   "id": "d9248785",
   "metadata": {},
   "source": [
    "## Reconocimiento de la información del data frame\n",
    "Para iniciar es clave identificar el tamaño y las dimensiones del conjunto de datos con la función shape. Posterior a esto se revisaron las columnas de la tabla con el atributo columns del objeto df."
   ]
  },
  {
   "cell_type": "code",
   "execution_count": 33,
   "id": "714cfe43",
   "metadata": {},
   "outputs": [
    {
     "data": {
      "text/plain": [
       "163688"
      ]
     },
     "execution_count": 33,
     "metadata": {},
     "output_type": "execute_result"
    }
   ],
   "source": [
    "#Tamaño del data frame\n",
    "df.size"
   ]
  },
  {
   "cell_type": "code",
   "execution_count": 34,
   "id": "eb1a1c06",
   "metadata": {},
   "outputs": [
    {
     "data": {
      "text/plain": [
       "(4424, 37)"
      ]
     },
     "execution_count": 34,
     "metadata": {},
     "output_type": "execute_result"
    }
   ],
   "source": [
    "#Dimensiones del conjunto de datos\n",
    "df.shape"
   ]
  },
  {
   "cell_type": "code",
   "execution_count": 35,
   "id": "b0823315",
   "metadata": {},
   "outputs": [
    {
     "data": {
      "text/plain": [
       "Index(['Marital status', 'Application mode', 'Application order', 'Course',\n",
       "       'Daytime/evening attendance\\t', 'Previous qualification',\n",
       "       'Previous qualification (grade)', 'Nacionality',\n",
       "       'Mother's qualification', 'Father's qualification',\n",
       "       'Mother's occupation', 'Father's occupation', 'Admission grade',\n",
       "       'Displaced', 'Educational special needs', 'Debtor',\n",
       "       'Tuition fees up to date', 'Gender', 'Scholarship holder',\n",
       "       'Age at enrollment', 'International',\n",
       "       'Curricular units 1st sem (credited)',\n",
       "       'Curricular units 1st sem (enrolled)',\n",
       "       'Curricular units 1st sem (evaluations)',\n",
       "       'Curricular units 1st sem (approved)',\n",
       "       'Curricular units 1st sem (grade)',\n",
       "       'Curricular units 1st sem (without evaluations)',\n",
       "       'Curricular units 2nd sem (credited)',\n",
       "       'Curricular units 2nd sem (enrolled)',\n",
       "       'Curricular units 2nd sem (evaluations)',\n",
       "       'Curricular units 2nd sem (approved)',\n",
       "       'Curricular units 2nd sem (grade)',\n",
       "       'Curricular units 2nd sem (without evaluations)', 'Unemployment rate',\n",
       "       'Inflation rate', 'GDP', 'Target'],\n",
       "      dtype='object')"
      ]
     },
     "execution_count": 35,
     "metadata": {},
     "output_type": "execute_result"
    }
   ],
   "source": [
    "#Columnas del Data Frame\n",
    "df.columns"
   ]
  },
  {
   "cell_type": "markdown",
   "id": "3f62828a",
   "metadata": {},
   "source": [
    "## Análisis por columna"
   ]
  },
  {
   "cell_type": "code",
   "execution_count": 36,
   "id": "e2787799",
   "metadata": {},
   "outputs": [
    {
     "name": "stdout",
     "output_type": "stream",
     "text": [
      "<class 'pandas.core.frame.DataFrame'>\n",
      "RangeIndex: 4424 entries, 0 to 4423\n",
      "Data columns (total 37 columns):\n",
      " #   Column                                          Non-Null Count  Dtype  \n",
      "---  ------                                          --------------  -----  \n",
      " 0   Marital status                                  4424 non-null   int64  \n",
      " 1   Application mode                                4424 non-null   int64  \n",
      " 2   Application order                               4424 non-null   int64  \n",
      " 3   Course                                          4424 non-null   int64  \n",
      " 4   Daytime/evening attendance\t                     4424 non-null   int64  \n",
      " 5   Previous qualification                          4424 non-null   int64  \n",
      " 6   Previous qualification (grade)                  4424 non-null   float64\n",
      " 7   Nacionality                                     4424 non-null   int64  \n",
      " 8   Mother's qualification                          4424 non-null   int64  \n",
      " 9   Father's qualification                          4424 non-null   int64  \n",
      " 10  Mother's occupation                             4424 non-null   int64  \n",
      " 11  Father's occupation                             4424 non-null   int64  \n",
      " 12  Admission grade                                 4424 non-null   float64\n",
      " 13  Displaced                                       4424 non-null   int64  \n",
      " 14  Educational special needs                       4424 non-null   int64  \n",
      " 15  Debtor                                          4424 non-null   int64  \n",
      " 16  Tuition fees up to date                         4424 non-null   int64  \n",
      " 17  Gender                                          4424 non-null   int64  \n",
      " 18  Scholarship holder                              4424 non-null   int64  \n",
      " 19  Age at enrollment                               4424 non-null   int64  \n",
      " 20  International                                   4424 non-null   int64  \n",
      " 21  Curricular units 1st sem (credited)             4424 non-null   int64  \n",
      " 22  Curricular units 1st sem (enrolled)             4424 non-null   int64  \n",
      " 23  Curricular units 1st sem (evaluations)          4424 non-null   int64  \n",
      " 24  Curricular units 1st sem (approved)             4424 non-null   int64  \n",
      " 25  Curricular units 1st sem (grade)                4424 non-null   float64\n",
      " 26  Curricular units 1st sem (without evaluations)  4424 non-null   int64  \n",
      " 27  Curricular units 2nd sem (credited)             4424 non-null   int64  \n",
      " 28  Curricular units 2nd sem (enrolled)             4424 non-null   int64  \n",
      " 29  Curricular units 2nd sem (evaluations)          4424 non-null   int64  \n",
      " 30  Curricular units 2nd sem (approved)             4424 non-null   int64  \n",
      " 31  Curricular units 2nd sem (grade)                4424 non-null   float64\n",
      " 32  Curricular units 2nd sem (without evaluations)  4424 non-null   int64  \n",
      " 33  Unemployment rate                               4424 non-null   float64\n",
      " 34  Inflation rate                                  4424 non-null   float64\n",
      " 35  GDP                                             4424 non-null   float64\n",
      " 36  Target                                          4424 non-null   object \n",
      "dtypes: float64(7), int64(29), object(1)\n",
      "memory usage: 1.2+ MB\n"
     ]
    }
   ],
   "source": [
    "# Cantidad de valores no nulos en el dataframe y tipo de variables\n",
    "df.info(memory_usage=True, show_counts=True)"
   ]
  },
  {
   "cell_type": "code",
   "execution_count": 37,
   "id": "69191d89",
   "metadata": {},
   "outputs": [
    {
     "data": {
      "text/plain": [
       "Marital status                                      6\n",
       "Application mode                                   18\n",
       "Application order                                   8\n",
       "Course                                             17\n",
       "Daytime/evening attendance\\t                        2\n",
       "Previous qualification                             17\n",
       "Previous qualification (grade)                    101\n",
       "Nacionality                                        21\n",
       "Mother's qualification                             29\n",
       "Father's qualification                             34\n",
       "Mother's occupation                                32\n",
       "Father's occupation                                46\n",
       "Admission grade                                   620\n",
       "Displaced                                           2\n",
       "Educational special needs                           2\n",
       "Debtor                                              2\n",
       "Tuition fees up to date                             2\n",
       "Gender                                              2\n",
       "Scholarship holder                                  2\n",
       "Age at enrollment                                  46\n",
       "International                                       2\n",
       "Curricular units 1st sem (credited)                21\n",
       "Curricular units 1st sem (enrolled)                23\n",
       "Curricular units 1st sem (evaluations)             35\n",
       "Curricular units 1st sem (approved)                23\n",
       "Curricular units 1st sem (grade)                  805\n",
       "Curricular units 1st sem (without evaluations)     11\n",
       "Curricular units 2nd sem (credited)                19\n",
       "Curricular units 2nd sem (enrolled)                22\n",
       "Curricular units 2nd sem (evaluations)             30\n",
       "Curricular units 2nd sem (approved)                20\n",
       "Curricular units 2nd sem (grade)                  786\n",
       "Curricular units 2nd sem (without evaluations)     10\n",
       "Unemployment rate                                  10\n",
       "Inflation rate                                      9\n",
       "GDP                                                10\n",
       "Target                                              3\n",
       "dtype: int64"
      ]
     },
     "execution_count": 37,
     "metadata": {},
     "output_type": "execute_result"
    }
   ],
   "source": [
    "#Valores distintos por columna\n",
    "df.nunique()"
   ]
  },
  {
   "cell_type": "markdown",
   "id": "35cac47e",
   "metadata": {},
   "source": [
    "## Selección de datos de interés\n",
    "\n",
    "Considerando los posibles intereses del cliente final y lo encontrado en la literatura, se hizo una primera selección de variables:\n",
    "\n",
    "1. Course\n",
    "2. Daytime/evening attendance\n",
    "3. Previous qualification (grade)\n",
    "4. Mother's qualification\n",
    "5. Father's qualification\n",
    "6. Admission grade\n",
    "7. Displaced\n",
    "8. Tuition fees up to date\n",
    "9. Scholarship holder\n",
    "10. Curricular units 1st sem (evaluations)\n",
    "11. Curricular units 1st sem (grade)\n",
    "12. Curricular units 2nd sem (evaluations)\n",
    "13. Curricular units 2nd sem (grade)\n",
    "14. Unemployment rate\n",
    "15. Inflation rate\n",
    "16. GDP\n",
    "17. Target"
   ]
  },
  {
   "cell_type": "code",
   "execution_count": 38,
   "id": "7c563a34",
   "metadata": {},
   "outputs": [
    {
     "data": {
      "text/html": [
       "<div>\n",
       "<style scoped>\n",
       "    .dataframe tbody tr th:only-of-type {\n",
       "        vertical-align: middle;\n",
       "    }\n",
       "\n",
       "    .dataframe tbody tr th {\n",
       "        vertical-align: top;\n",
       "    }\n",
       "\n",
       "    .dataframe thead th {\n",
       "        text-align: right;\n",
       "    }\n",
       "</style>\n",
       "<table border=\"1\" class=\"dataframe\">\n",
       "  <thead>\n",
       "    <tr style=\"text-align: right;\">\n",
       "      <th></th>\n",
       "      <th>Course</th>\n",
       "      <th>Daytime/evening attendance\\t</th>\n",
       "      <th>Previous qualification (grade)</th>\n",
       "      <th>Mother's qualification</th>\n",
       "      <th>Father's qualification</th>\n",
       "      <th>Admission grade</th>\n",
       "      <th>Displaced</th>\n",
       "      <th>Tuition fees up to date</th>\n",
       "      <th>Scholarship holder</th>\n",
       "      <th>Curricular units 1st sem (evaluations)</th>\n",
       "      <th>Curricular units 1st sem (grade)</th>\n",
       "      <th>Curricular units 2nd sem (evaluations)</th>\n",
       "      <th>Curricular units 2nd sem (grade)</th>\n",
       "      <th>Unemployment rate</th>\n",
       "      <th>Inflation rate</th>\n",
       "      <th>GDP</th>\n",
       "      <th>Target</th>\n",
       "    </tr>\n",
       "  </thead>\n",
       "  <tbody>\n",
       "    <tr>\n",
       "      <th>0</th>\n",
       "      <td>171</td>\n",
       "      <td>1</td>\n",
       "      <td>122.0</td>\n",
       "      <td>19</td>\n",
       "      <td>12</td>\n",
       "      <td>127.3</td>\n",
       "      <td>1</td>\n",
       "      <td>1</td>\n",
       "      <td>0</td>\n",
       "      <td>0</td>\n",
       "      <td>0.000000</td>\n",
       "      <td>0</td>\n",
       "      <td>0.000000</td>\n",
       "      <td>10.8</td>\n",
       "      <td>1.4</td>\n",
       "      <td>1.74</td>\n",
       "      <td>Dropout</td>\n",
       "    </tr>\n",
       "    <tr>\n",
       "      <th>1</th>\n",
       "      <td>9254</td>\n",
       "      <td>1</td>\n",
       "      <td>160.0</td>\n",
       "      <td>1</td>\n",
       "      <td>3</td>\n",
       "      <td>142.5</td>\n",
       "      <td>1</td>\n",
       "      <td>0</td>\n",
       "      <td>0</td>\n",
       "      <td>6</td>\n",
       "      <td>14.000000</td>\n",
       "      <td>6</td>\n",
       "      <td>13.666667</td>\n",
       "      <td>13.9</td>\n",
       "      <td>-0.3</td>\n",
       "      <td>0.79</td>\n",
       "      <td>Graduate</td>\n",
       "    </tr>\n",
       "    <tr>\n",
       "      <th>2</th>\n",
       "      <td>9070</td>\n",
       "      <td>1</td>\n",
       "      <td>122.0</td>\n",
       "      <td>37</td>\n",
       "      <td>37</td>\n",
       "      <td>124.8</td>\n",
       "      <td>1</td>\n",
       "      <td>0</td>\n",
       "      <td>0</td>\n",
       "      <td>0</td>\n",
       "      <td>0.000000</td>\n",
       "      <td>0</td>\n",
       "      <td>0.000000</td>\n",
       "      <td>10.8</td>\n",
       "      <td>1.4</td>\n",
       "      <td>1.74</td>\n",
       "      <td>Dropout</td>\n",
       "    </tr>\n",
       "    <tr>\n",
       "      <th>3</th>\n",
       "      <td>9773</td>\n",
       "      <td>1</td>\n",
       "      <td>122.0</td>\n",
       "      <td>38</td>\n",
       "      <td>37</td>\n",
       "      <td>119.6</td>\n",
       "      <td>1</td>\n",
       "      <td>1</td>\n",
       "      <td>0</td>\n",
       "      <td>8</td>\n",
       "      <td>13.428571</td>\n",
       "      <td>10</td>\n",
       "      <td>12.400000</td>\n",
       "      <td>9.4</td>\n",
       "      <td>-0.8</td>\n",
       "      <td>-3.12</td>\n",
       "      <td>Graduate</td>\n",
       "    </tr>\n",
       "    <tr>\n",
       "      <th>4</th>\n",
       "      <td>8014</td>\n",
       "      <td>0</td>\n",
       "      <td>100.0</td>\n",
       "      <td>37</td>\n",
       "      <td>38</td>\n",
       "      <td>141.5</td>\n",
       "      <td>0</td>\n",
       "      <td>1</td>\n",
       "      <td>0</td>\n",
       "      <td>9</td>\n",
       "      <td>12.333333</td>\n",
       "      <td>6</td>\n",
       "      <td>13.000000</td>\n",
       "      <td>13.9</td>\n",
       "      <td>-0.3</td>\n",
       "      <td>0.79</td>\n",
       "      <td>Graduate</td>\n",
       "    </tr>\n",
       "    <tr>\n",
       "      <th>5</th>\n",
       "      <td>9991</td>\n",
       "      <td>0</td>\n",
       "      <td>133.1</td>\n",
       "      <td>37</td>\n",
       "      <td>37</td>\n",
       "      <td>114.8</td>\n",
       "      <td>0</td>\n",
       "      <td>1</td>\n",
       "      <td>0</td>\n",
       "      <td>10</td>\n",
       "      <td>11.857143</td>\n",
       "      <td>17</td>\n",
       "      <td>11.500000</td>\n",
       "      <td>16.2</td>\n",
       "      <td>0.3</td>\n",
       "      <td>-0.92</td>\n",
       "      <td>Graduate</td>\n",
       "    </tr>\n",
       "    <tr>\n",
       "      <th>6</th>\n",
       "      <td>9500</td>\n",
       "      <td>1</td>\n",
       "      <td>142.0</td>\n",
       "      <td>19</td>\n",
       "      <td>38</td>\n",
       "      <td>128.4</td>\n",
       "      <td>1</td>\n",
       "      <td>1</td>\n",
       "      <td>1</td>\n",
       "      <td>9</td>\n",
       "      <td>13.300000</td>\n",
       "      <td>8</td>\n",
       "      <td>14.345000</td>\n",
       "      <td>15.5</td>\n",
       "      <td>2.8</td>\n",
       "      <td>-4.06</td>\n",
       "      <td>Graduate</td>\n",
       "    </tr>\n",
       "    <tr>\n",
       "      <th>7</th>\n",
       "      <td>9254</td>\n",
       "      <td>1</td>\n",
       "      <td>119.0</td>\n",
       "      <td>37</td>\n",
       "      <td>37</td>\n",
       "      <td>113.1</td>\n",
       "      <td>1</td>\n",
       "      <td>0</td>\n",
       "      <td>0</td>\n",
       "      <td>5</td>\n",
       "      <td>0.000000</td>\n",
       "      <td>5</td>\n",
       "      <td>0.000000</td>\n",
       "      <td>15.5</td>\n",
       "      <td>2.8</td>\n",
       "      <td>-4.06</td>\n",
       "      <td>Dropout</td>\n",
       "    </tr>\n",
       "    <tr>\n",
       "      <th>8</th>\n",
       "      <td>9238</td>\n",
       "      <td>1</td>\n",
       "      <td>137.0</td>\n",
       "      <td>1</td>\n",
       "      <td>1</td>\n",
       "      <td>129.3</td>\n",
       "      <td>0</td>\n",
       "      <td>1</td>\n",
       "      <td>1</td>\n",
       "      <td>8</td>\n",
       "      <td>13.875000</td>\n",
       "      <td>7</td>\n",
       "      <td>14.142857</td>\n",
       "      <td>16.2</td>\n",
       "      <td>0.3</td>\n",
       "      <td>-0.92</td>\n",
       "      <td>Graduate</td>\n",
       "    </tr>\n",
       "    <tr>\n",
       "      <th>9</th>\n",
       "      <td>9238</td>\n",
       "      <td>1</td>\n",
       "      <td>138.0</td>\n",
       "      <td>1</td>\n",
       "      <td>19</td>\n",
       "      <td>123.0</td>\n",
       "      <td>1</td>\n",
       "      <td>0</td>\n",
       "      <td>0</td>\n",
       "      <td>9</td>\n",
       "      <td>11.400000</td>\n",
       "      <td>14</td>\n",
       "      <td>13.500000</td>\n",
       "      <td>8.9</td>\n",
       "      <td>1.4</td>\n",
       "      <td>3.51</td>\n",
       "      <td>Dropout</td>\n",
       "    </tr>\n",
       "  </tbody>\n",
       "</table>\n",
       "</div>"
      ],
      "text/plain": [
       "   Course  Daytime/evening attendance\\t  Previous qualification (grade)  \\\n",
       "0     171                             1                           122.0   \n",
       "1    9254                             1                           160.0   \n",
       "2    9070                             1                           122.0   \n",
       "3    9773                             1                           122.0   \n",
       "4    8014                             0                           100.0   \n",
       "5    9991                             0                           133.1   \n",
       "6    9500                             1                           142.0   \n",
       "7    9254                             1                           119.0   \n",
       "8    9238                             1                           137.0   \n",
       "9    9238                             1                           138.0   \n",
       "\n",
       "   Mother's qualification  Father's qualification  Admission grade  Displaced  \\\n",
       "0                      19                      12            127.3          1   \n",
       "1                       1                       3            142.5          1   \n",
       "2                      37                      37            124.8          1   \n",
       "3                      38                      37            119.6          1   \n",
       "4                      37                      38            141.5          0   \n",
       "5                      37                      37            114.8          0   \n",
       "6                      19                      38            128.4          1   \n",
       "7                      37                      37            113.1          1   \n",
       "8                       1                       1            129.3          0   \n",
       "9                       1                      19            123.0          1   \n",
       "\n",
       "   Tuition fees up to date  Scholarship holder  \\\n",
       "0                        1                   0   \n",
       "1                        0                   0   \n",
       "2                        0                   0   \n",
       "3                        1                   0   \n",
       "4                        1                   0   \n",
       "5                        1                   0   \n",
       "6                        1                   1   \n",
       "7                        0                   0   \n",
       "8                        1                   1   \n",
       "9                        0                   0   \n",
       "\n",
       "   Curricular units 1st sem (evaluations)  Curricular units 1st sem (grade)  \\\n",
       "0                                       0                          0.000000   \n",
       "1                                       6                         14.000000   \n",
       "2                                       0                          0.000000   \n",
       "3                                       8                         13.428571   \n",
       "4                                       9                         12.333333   \n",
       "5                                      10                         11.857143   \n",
       "6                                       9                         13.300000   \n",
       "7                                       5                          0.000000   \n",
       "8                                       8                         13.875000   \n",
       "9                                       9                         11.400000   \n",
       "\n",
       "   Curricular units 2nd sem (evaluations)  Curricular units 2nd sem (grade)  \\\n",
       "0                                       0                          0.000000   \n",
       "1                                       6                         13.666667   \n",
       "2                                       0                          0.000000   \n",
       "3                                      10                         12.400000   \n",
       "4                                       6                         13.000000   \n",
       "5                                      17                         11.500000   \n",
       "6                                       8                         14.345000   \n",
       "7                                       5                          0.000000   \n",
       "8                                       7                         14.142857   \n",
       "9                                      14                         13.500000   \n",
       "\n",
       "   Unemployment rate  Inflation rate   GDP    Target  \n",
       "0               10.8             1.4  1.74   Dropout  \n",
       "1               13.9            -0.3  0.79  Graduate  \n",
       "2               10.8             1.4  1.74   Dropout  \n",
       "3                9.4            -0.8 -3.12  Graduate  \n",
       "4               13.9            -0.3  0.79  Graduate  \n",
       "5               16.2             0.3 -0.92  Graduate  \n",
       "6               15.5             2.8 -4.06  Graduate  \n",
       "7               15.5             2.8 -4.06   Dropout  \n",
       "8               16.2             0.3 -0.92  Graduate  \n",
       "9                8.9             1.4  3.51   Dropout  "
      ]
     },
     "execution_count": 38,
     "metadata": {},
     "output_type": "execute_result"
    }
   ],
   "source": [
    "#Visualización rápida para el reconocimiento de los datos utilizando la función head\n",
    "df_new = df[[\"Course\", \"Daytime/evening attendance\\t\", \"Previous qualification (grade)\", \"Mother's qualification\", \"Father's qualification\", \"Admission grade\", \"Displaced\", \"Tuition fees up to date\", \"Scholarship holder\", \"Curricular units 1st sem (evaluations)\", \"Curricular units 1st sem (grade)\", \"Curricular units 2nd sem (evaluations)\", \"Curricular units 2nd sem (grade)\", \"Unemployment rate\", \"Inflation rate\", \"GDP\", \"Target\"]]\n",
    "df_new.head(10)"
   ]
  },
  {
   "cell_type": "code",
   "execution_count": 39,
   "id": "12b77e5c",
   "metadata": {},
   "outputs": [
    {
     "name": "stderr",
     "output_type": "stream",
     "text": [
      "C:\\Users\\jgvm\\AppData\\Local\\Temp\\ipykernel_10416\\1398112970.py:3: SettingWithCopyWarning: \n",
      "A value is trying to be set on a copy of a slice from a DataFrame.\n",
      "Try using .loc[row_indexer,col_indexer] = value instead\n",
      "\n",
      "See the caveats in the documentation: https://pandas.pydata.org/pandas-docs/stable/user_guide/indexing.html#returning-a-view-versus-a-copy\n",
      "  df_new[variables_categoricas] = df_new[variables_categoricas].astype('category')\n"
     ]
    }
   ],
   "source": [
    "#Transformar variables categóricas\n",
    "variables_categoricas = [\"Course\", \"Daytime/evening attendance\\t\", \"Mother's qualification\", \"Father's qualification\", \"Displaced\", \"Tuition fees up to date\", \"Scholarship holder\", \"Target\"]\n",
    "df_new[variables_categoricas] = df_new[variables_categoricas].astype('category')"
   ]
  },
  {
   "cell_type": "markdown",
   "id": "a72054c8",
   "metadata": {},
   "source": [
    "# Variables Continuas"
   ]
  },
  {
   "cell_type": "code",
   "execution_count": 40,
   "id": "6945aac0",
   "metadata": {},
   "outputs": [
    {
     "data": {
      "text/html": [
       "<div>\n",
       "<style scoped>\n",
       "    .dataframe tbody tr th:only-of-type {\n",
       "        vertical-align: middle;\n",
       "    }\n",
       "\n",
       "    .dataframe tbody tr th {\n",
       "        vertical-align: top;\n",
       "    }\n",
       "\n",
       "    .dataframe thead th {\n",
       "        text-align: right;\n",
       "    }\n",
       "</style>\n",
       "<table border=\"1\" class=\"dataframe\">\n",
       "  <thead>\n",
       "    <tr style=\"text-align: right;\">\n",
       "      <th></th>\n",
       "      <th>Previous qualification (grade)</th>\n",
       "      <th>Admission grade</th>\n",
       "      <th>Curricular units 1st sem (evaluations)</th>\n",
       "      <th>Curricular units 1st sem (grade)</th>\n",
       "      <th>Curricular units 2nd sem (evaluations)</th>\n",
       "      <th>Curricular units 2nd sem (grade)</th>\n",
       "      <th>Unemployment rate</th>\n",
       "      <th>Inflation rate</th>\n",
       "      <th>GDP</th>\n",
       "    </tr>\n",
       "  </thead>\n",
       "  <tbody>\n",
       "    <tr>\n",
       "      <th>count</th>\n",
       "      <td>4424.000000</td>\n",
       "      <td>4424.000000</td>\n",
       "      <td>4424.000000</td>\n",
       "      <td>4424.000000</td>\n",
       "      <td>4424.000000</td>\n",
       "      <td>4424.000000</td>\n",
       "      <td>4424.000000</td>\n",
       "      <td>4424.000000</td>\n",
       "      <td>4424.000000</td>\n",
       "    </tr>\n",
       "    <tr>\n",
       "      <th>mean</th>\n",
       "      <td>132.613314</td>\n",
       "      <td>126.978119</td>\n",
       "      <td>8.299051</td>\n",
       "      <td>10.640822</td>\n",
       "      <td>8.063291</td>\n",
       "      <td>10.230206</td>\n",
       "      <td>11.566139</td>\n",
       "      <td>1.228029</td>\n",
       "      <td>0.001969</td>\n",
       "    </tr>\n",
       "    <tr>\n",
       "      <th>std</th>\n",
       "      <td>13.188332</td>\n",
       "      <td>14.482001</td>\n",
       "      <td>4.179106</td>\n",
       "      <td>4.843663</td>\n",
       "      <td>3.947951</td>\n",
       "      <td>5.210808</td>\n",
       "      <td>2.663850</td>\n",
       "      <td>1.382711</td>\n",
       "      <td>2.269935</td>\n",
       "    </tr>\n",
       "    <tr>\n",
       "      <th>min</th>\n",
       "      <td>95.000000</td>\n",
       "      <td>95.000000</td>\n",
       "      <td>0.000000</td>\n",
       "      <td>0.000000</td>\n",
       "      <td>0.000000</td>\n",
       "      <td>0.000000</td>\n",
       "      <td>7.600000</td>\n",
       "      <td>-0.800000</td>\n",
       "      <td>-4.060000</td>\n",
       "    </tr>\n",
       "    <tr>\n",
       "      <th>25%</th>\n",
       "      <td>125.000000</td>\n",
       "      <td>117.900000</td>\n",
       "      <td>6.000000</td>\n",
       "      <td>11.000000</td>\n",
       "      <td>6.000000</td>\n",
       "      <td>10.750000</td>\n",
       "      <td>9.400000</td>\n",
       "      <td>0.300000</td>\n",
       "      <td>-1.700000</td>\n",
       "    </tr>\n",
       "    <tr>\n",
       "      <th>50%</th>\n",
       "      <td>133.100000</td>\n",
       "      <td>126.100000</td>\n",
       "      <td>8.000000</td>\n",
       "      <td>12.285714</td>\n",
       "      <td>8.000000</td>\n",
       "      <td>12.200000</td>\n",
       "      <td>11.100000</td>\n",
       "      <td>1.400000</td>\n",
       "      <td>0.320000</td>\n",
       "    </tr>\n",
       "    <tr>\n",
       "      <th>75%</th>\n",
       "      <td>140.000000</td>\n",
       "      <td>134.800000</td>\n",
       "      <td>10.000000</td>\n",
       "      <td>13.400000</td>\n",
       "      <td>10.000000</td>\n",
       "      <td>13.333333</td>\n",
       "      <td>13.900000</td>\n",
       "      <td>2.600000</td>\n",
       "      <td>1.790000</td>\n",
       "    </tr>\n",
       "    <tr>\n",
       "      <th>max</th>\n",
       "      <td>190.000000</td>\n",
       "      <td>190.000000</td>\n",
       "      <td>45.000000</td>\n",
       "      <td>18.875000</td>\n",
       "      <td>33.000000</td>\n",
       "      <td>18.571429</td>\n",
       "      <td>16.200000</td>\n",
       "      <td>3.700000</td>\n",
       "      <td>3.510000</td>\n",
       "    </tr>\n",
       "  </tbody>\n",
       "</table>\n",
       "</div>"
      ],
      "text/plain": [
       "       Previous qualification (grade)  Admission grade  \\\n",
       "count                     4424.000000      4424.000000   \n",
       "mean                       132.613314       126.978119   \n",
       "std                         13.188332        14.482001   \n",
       "min                         95.000000        95.000000   \n",
       "25%                        125.000000       117.900000   \n",
       "50%                        133.100000       126.100000   \n",
       "75%                        140.000000       134.800000   \n",
       "max                        190.000000       190.000000   \n",
       "\n",
       "       Curricular units 1st sem (evaluations)  \\\n",
       "count                             4424.000000   \n",
       "mean                                 8.299051   \n",
       "std                                  4.179106   \n",
       "min                                  0.000000   \n",
       "25%                                  6.000000   \n",
       "50%                                  8.000000   \n",
       "75%                                 10.000000   \n",
       "max                                 45.000000   \n",
       "\n",
       "       Curricular units 1st sem (grade)  \\\n",
       "count                       4424.000000   \n",
       "mean                          10.640822   \n",
       "std                            4.843663   \n",
       "min                            0.000000   \n",
       "25%                           11.000000   \n",
       "50%                           12.285714   \n",
       "75%                           13.400000   \n",
       "max                           18.875000   \n",
       "\n",
       "       Curricular units 2nd sem (evaluations)  \\\n",
       "count                             4424.000000   \n",
       "mean                                 8.063291   \n",
       "std                                  3.947951   \n",
       "min                                  0.000000   \n",
       "25%                                  6.000000   \n",
       "50%                                  8.000000   \n",
       "75%                                 10.000000   \n",
       "max                                 33.000000   \n",
       "\n",
       "       Curricular units 2nd sem (grade)  Unemployment rate  Inflation rate  \\\n",
       "count                       4424.000000        4424.000000     4424.000000   \n",
       "mean                          10.230206          11.566139        1.228029   \n",
       "std                            5.210808           2.663850        1.382711   \n",
       "min                            0.000000           7.600000       -0.800000   \n",
       "25%                           10.750000           9.400000        0.300000   \n",
       "50%                           12.200000          11.100000        1.400000   \n",
       "75%                           13.333333          13.900000        2.600000   \n",
       "max                           18.571429          16.200000        3.700000   \n",
       "\n",
       "               GDP  \n",
       "count  4424.000000  \n",
       "mean      0.001969  \n",
       "std       2.269935  \n",
       "min      -4.060000  \n",
       "25%      -1.700000  \n",
       "50%       0.320000  \n",
       "75%       1.790000  \n",
       "max       3.510000  "
      ]
     },
     "execution_count": 40,
     "metadata": {},
     "output_type": "execute_result"
    }
   ],
   "source": [
    "#Descripción de variables continuas\n",
    "df_new.describe()"
   ]
  },
  {
   "cell_type": "code",
   "execution_count": 41,
   "id": "0b35cc14",
   "metadata": {},
   "outputs": [
    {
     "data": {
      "text/plain": [
       "<AxesSubplot:xlabel='Target', ylabel='Previous qualification (grade)'>"
      ]
     },
     "execution_count": 41,
     "metadata": {},
     "output_type": "execute_result"
    },
    {
     "data": {
      "image/png": "[encoded data removed]",
      "text/plain": [
       "<Figure size 432x288 with 1 Axes>"
      ]
     },
     "metadata": {
      "needs_background": "light"
     },
     "output_type": "display_data"
    }
   ],
   "source": [
    "sns.boxplot(x=\"Target\", y=\"Previous qualification (grade)\", data=df_new)"
   ]
  },
  {
   "cell_type": "code",
   "execution_count": 42,
   "id": "81741c13",
   "metadata": {},
   "outputs": [
    {
     "data": {
      "text/plain": [
       "<AxesSubplot:xlabel='Previous qualification (grade)', ylabel='Count'>"
      ]
     },
     "execution_count": 42,
     "metadata": {},
     "output_type": "execute_result"
    },
    {
     "data": {
      "image/png": "[encoded data removed]",
      "text/plain": [
       "<Figure size 432x288 with 1 Axes>"
      ]
     },
     "metadata": {
      "needs_background": "light"
     },
     "output_type": "display_data"
    }
   ],
   "source": [
    "sns.histplot(x=\"Previous qualification (grade)\", data=df_new, palette=\"Greens_d\", binwidth=10)"
   ]
  },
  {
   "cell_type": "markdown",
   "id": "de5daba5",
   "metadata": {},
   "source": [
    "# Variables Categóricas"
   ]
  },
  {
   "cell_type": "code",
   "execution_count": 43,
   "id": "ed0fe309",
   "metadata": {},
   "outputs": [
    {
     "data": {
      "text/plain": [
       "<AxesSubplot:xlabel='Course', ylabel='Previous qualification (grade)'>"
      ]
     },
     "execution_count": 43,
     "metadata": {},
     "output_type": "execute_result"
    },
    {
     "data": {
      "image/png": "[encoded data removed]",
      "text/plain": [
       "<Figure size 432x288 with 1 Axes>"
      ]
     },
     "metadata": {
      "needs_background": "light"
     },
     "output_type": "display_data"
    }
   ],
   "source": [
    "#titanic = sns.load_dataset(\"titanic\")\n",
    "#sns.violinplot(x=\"age\", y=\"sex\", hue=\"adult_male\", data=titanic)\n",
    "sns.violinplot(x = \"Course\", y = \"Previous qualification (grade)\", data = df_new)"
   ]
  },
  {
   "cell_type": "code",
   "execution_count": 44,
   "id": "85821502",
   "metadata": {},
   "outputs": [
    {
     "data": {
      "text/html": [
       "<div>\n",
       "<style scoped>\n",
       "    .dataframe tbody tr th:only-of-type {\n",
       "        vertical-align: middle;\n",
       "    }\n",
       "\n",
       "    .dataframe tbody tr th {\n",
       "        vertical-align: top;\n",
       "    }\n",
       "\n",
       "    .dataframe thead tr th {\n",
       "        text-align: left;\n",
       "    }\n",
       "\n",
       "    .dataframe thead tr:last-of-type th {\n",
       "        text-align: right;\n",
       "    }\n",
       "</style>\n",
       "<table border=\"1\" class=\"dataframe\">\n",
       "  <thead>\n",
       "    <tr>\n",
       "      <th></th>\n",
       "      <th colspan=\"2\" halign=\"left\">Marital status</th>\n",
       "    </tr>\n",
       "    <tr>\n",
       "      <th></th>\n",
       "      <th>nunique</th>\n",
       "      <th>count</th>\n",
       "    </tr>\n",
       "    <tr>\n",
       "      <th>Curricular units 1st sem (enrolled)</th>\n",
       "      <th></th>\n",
       "      <th></th>\n",
       "    </tr>\n",
       "  </thead>\n",
       "  <tbody>\n",
       "    <tr>\n",
       "      <th>0</th>\n",
       "      <td>2</td>\n",
       "      <td>180</td>\n",
       "    </tr>\n",
       "    <tr>\n",
       "      <th>1</th>\n",
       "      <td>3</td>\n",
       "      <td>7</td>\n",
       "    </tr>\n",
       "    <tr>\n",
       "      <th>2</th>\n",
       "      <td>3</td>\n",
       "      <td>9</td>\n",
       "    </tr>\n",
       "    <tr>\n",
       "      <th>3</th>\n",
       "      <td>2</td>\n",
       "      <td>10</td>\n",
       "    </tr>\n",
       "    <tr>\n",
       "      <th>4</th>\n",
       "      <td>3</td>\n",
       "      <td>21</td>\n",
       "    </tr>\n",
       "    <tr>\n",
       "      <th>5</th>\n",
       "      <td>6</td>\n",
       "      <td>1010</td>\n",
       "    </tr>\n",
       "    <tr>\n",
       "      <th>6</th>\n",
       "      <td>6</td>\n",
       "      <td>1910</td>\n",
       "    </tr>\n",
       "    <tr>\n",
       "      <th>7</th>\n",
       "      <td>5</td>\n",
       "      <td>656</td>\n",
       "    </tr>\n",
       "    <tr>\n",
       "      <th>8</th>\n",
       "      <td>4</td>\n",
       "      <td>296</td>\n",
       "    </tr>\n",
       "    <tr>\n",
       "      <th>9</th>\n",
       "      <td>3</td>\n",
       "      <td>36</td>\n",
       "    </tr>\n",
       "    <tr>\n",
       "      <th>10</th>\n",
       "      <td>4</td>\n",
       "      <td>52</td>\n",
       "    </tr>\n",
       "    <tr>\n",
       "      <th>11</th>\n",
       "      <td>2</td>\n",
       "      <td>45</td>\n",
       "    </tr>\n",
       "    <tr>\n",
       "      <th>12</th>\n",
       "      <td>3</td>\n",
       "      <td>66</td>\n",
       "    </tr>\n",
       "    <tr>\n",
       "      <th>13</th>\n",
       "      <td>2</td>\n",
       "      <td>20</td>\n",
       "    </tr>\n",
       "    <tr>\n",
       "      <th>14</th>\n",
       "      <td>3</td>\n",
       "      <td>22</td>\n",
       "    </tr>\n",
       "    <tr>\n",
       "      <th>15</th>\n",
       "      <td>3</td>\n",
       "      <td>25</td>\n",
       "    </tr>\n",
       "    <tr>\n",
       "      <th>16</th>\n",
       "      <td>2</td>\n",
       "      <td>13</td>\n",
       "    </tr>\n",
       "    <tr>\n",
       "      <th>17</th>\n",
       "      <td>2</td>\n",
       "      <td>16</td>\n",
       "    </tr>\n",
       "    <tr>\n",
       "      <th>18</th>\n",
       "      <td>3</td>\n",
       "      <td>19</td>\n",
       "    </tr>\n",
       "    <tr>\n",
       "      <th>19</th>\n",
       "      <td>1</td>\n",
       "      <td>2</td>\n",
       "    </tr>\n",
       "    <tr>\n",
       "      <th>21</th>\n",
       "      <td>1</td>\n",
       "      <td>6</td>\n",
       "    </tr>\n",
       "    <tr>\n",
       "      <th>23</th>\n",
       "      <td>1</td>\n",
       "      <td>2</td>\n",
       "    </tr>\n",
       "    <tr>\n",
       "      <th>26</th>\n",
       "      <td>1</td>\n",
       "      <td>1</td>\n",
       "    </tr>\n",
       "  </tbody>\n",
       "</table>\n",
       "</div>"
      ],
      "text/plain": [
       "                                    Marital status      \n",
       "                                           nunique count\n",
       "Curricular units 1st sem (enrolled)                     \n",
       "0                                                2   180\n",
       "1                                                3     7\n",
       "2                                                3     9\n",
       "3                                                2    10\n",
       "4                                                3    21\n",
       "5                                                6  1010\n",
       "6                                                6  1910\n",
       "7                                                5   656\n",
       "8                                                4   296\n",
       "9                                                3    36\n",
       "10                                               4    52\n",
       "11                                               2    45\n",
       "12                                               3    66\n",
       "13                                               2    20\n",
       "14                                               3    22\n",
       "15                                               3    25\n",
       "16                                               2    13\n",
       "17                                               2    16\n",
       "18                                               3    19\n",
       "19                                               1     2\n",
       "21                                               1     6\n",
       "23                                               1     2\n",
       "26                                               1     1"
      ]
     },
     "execution_count": 44,
     "metadata": {},
     "output_type": "execute_result"
    }
   ],
   "source": [
    "df.groupby(by=['Curricular units 1st sem (enrolled)']).agg({'Marital status':['nunique','count']})"
   ]
  },
  {
   "cell_type": "code",
   "execution_count": 47,
   "id": "738f35e6",
   "metadata": {},
   "outputs": [
    {
     "data": {
      "image/png": "[encoded data removed]",
      "text/plain": [
       "<Figure size 720x576 with 2 Axes>"
      ]
     },
     "metadata": {
      "needs_background": "light"
     },
     "output_type": "display_data"
    }
   ],
   "source": [
    "df_continuas = df[[\"Previous qualification (grade)\", \"Admission grade\", \"Curricular units 1st sem (evaluations)\", \"Curricular units 1st sem (grade)\", \"Curricular units 2nd sem (evaluations)\", \"Curricular units 2nd sem (grade)\", \"Unemployment rate\", \"Inflation rate\", \"GDP\"]]\n",
    "correlation_matrix = df_continuas.corr()\n",
    "\n",
    "plt.figure(figsize=(10,8))\n",
    "sns.heatmap(correlation_matrix, annot=True, cmap='coolwarm', vmin=-1, vmax=1)\n",
    "plt.show()"
   ]
  },
  {
   "cell_type": "markdown",
   "id": "105f27cd",
   "metadata": {},
   "source": [
    "# Filtro adicional de variables continuas\n",
    "\n",
    "Como se puede observar en la figura anterior, exiten variables dentro del modelo actual que están bastante correlacionadas pues su valor de correlación está por encima de 0.5. Por lo tanto, debido a esta alta relación y simulitud que existe entre ellas se procederá a eliminar una de las variables dentro del par correlacionado. \n",
    "\n",
    "Entonces, se identificó una correlación de **0.58** entre las variables _Previous qualification (grade)_ y _Admission grade_, una correlación de **0.78** entre las variables _Curricular units 1st sem (evaluations)_ y _Curricular units 2nd sem (evaluations)_, por último, una correlación de **0.84** entre las variables _Curricular units 1st sem (grade)_ y _Curricular units 2nd sem (grade)_.\n",
    "\n",
    "Una vez identificadas las variables con alta correlación se procede a retirar una de ellas dentro del par de variables. Según lo anterior, se dio prioridad a las variables que pueden brindar información de forma temprana según las necesidades del cliente que, en este caso, es la universidad. En este orden de ideas, se decidió dejar dentro de modelo las variables  _Previous qualification (grade)_,  _Curricular units 1st sem (evaluations)_ y _Curricular units 1st sem (grade)_ y sacar del modelo las variables _Admission grade_, Curricular units 2nd sem (evaluations)_ y _Curricular units 2nd sem (grade)_. Con estas variables dentro del modelo se pretende tomar información desde una fase temprana del estudiantes pues al obtener la información del primer semestre se podrá inferir de una vez sin necesidad de que el estudiante complete el segundo segundo semestre ya que ambas variables están altamente correlacionadas.\n",
    "\n"
   ]
  },
  {
   "cell_type": "code",
   "execution_count": 48,
   "id": "a43ce217",
   "metadata": {},
   "outputs": [
    {
     "data": {
      "text/html": [
       "<div>\n",
       "<style scoped>\n",
       "    .dataframe tbody tr th:only-of-type {\n",
       "        vertical-align: middle;\n",
       "    }\n",
       "\n",
       "    .dataframe tbody tr th {\n",
       "        vertical-align: top;\n",
       "    }\n",
       "\n",
       "    .dataframe thead th {\n",
       "        text-align: right;\n",
       "    }\n",
       "</style>\n",
       "<table border=\"1\" class=\"dataframe\">\n",
       "  <thead>\n",
       "    <tr style=\"text-align: right;\">\n",
       "      <th></th>\n",
       "      <th>Course</th>\n",
       "      <th>Daytime/evening attendance\\t</th>\n",
       "      <th>Previous qualification (grade)</th>\n",
       "      <th>Mother's qualification</th>\n",
       "      <th>Father's qualification</th>\n",
       "      <th>Displaced</th>\n",
       "      <th>Tuition fees up to date</th>\n",
       "      <th>Scholarship holder</th>\n",
       "      <th>Curricular units 1st sem (evaluations)</th>\n",
       "      <th>Curricular units 1st sem (grade)</th>\n",
       "      <th>Unemployment rate</th>\n",
       "      <th>Inflation rate</th>\n",
       "      <th>GDP</th>\n",
       "      <th>Target</th>\n",
       "    </tr>\n",
       "  </thead>\n",
       "  <tbody>\n",
       "    <tr>\n",
       "      <th>0</th>\n",
       "      <td>171</td>\n",
       "      <td>1</td>\n",
       "      <td>122.0</td>\n",
       "      <td>19</td>\n",
       "      <td>12</td>\n",
       "      <td>1</td>\n",
       "      <td>1</td>\n",
       "      <td>0</td>\n",
       "      <td>0</td>\n",
       "      <td>0.000000</td>\n",
       "      <td>10.8</td>\n",
       "      <td>1.4</td>\n",
       "      <td>1.74</td>\n",
       "      <td>Dropout</td>\n",
       "    </tr>\n",
       "    <tr>\n",
       "      <th>1</th>\n",
       "      <td>9254</td>\n",
       "      <td>1</td>\n",
       "      <td>160.0</td>\n",
       "      <td>1</td>\n",
       "      <td>3</td>\n",
       "      <td>1</td>\n",
       "      <td>0</td>\n",
       "      <td>0</td>\n",
       "      <td>6</td>\n",
       "      <td>14.000000</td>\n",
       "      <td>13.9</td>\n",
       "      <td>-0.3</td>\n",
       "      <td>0.79</td>\n",
       "      <td>Graduate</td>\n",
       "    </tr>\n",
       "    <tr>\n",
       "      <th>2</th>\n",
       "      <td>9070</td>\n",
       "      <td>1</td>\n",
       "      <td>122.0</td>\n",
       "      <td>37</td>\n",
       "      <td>37</td>\n",
       "      <td>1</td>\n",
       "      <td>0</td>\n",
       "      <td>0</td>\n",
       "      <td>0</td>\n",
       "      <td>0.000000</td>\n",
       "      <td>10.8</td>\n",
       "      <td>1.4</td>\n",
       "      <td>1.74</td>\n",
       "      <td>Dropout</td>\n",
       "    </tr>\n",
       "    <tr>\n",
       "      <th>3</th>\n",
       "      <td>9773</td>\n",
       "      <td>1</td>\n",
       "      <td>122.0</td>\n",
       "      <td>38</td>\n",
       "      <td>37</td>\n",
       "      <td>1</td>\n",
       "      <td>1</td>\n",
       "      <td>0</td>\n",
       "      <td>8</td>\n",
       "      <td>13.428571</td>\n",
       "      <td>9.4</td>\n",
       "      <td>-0.8</td>\n",
       "      <td>-3.12</td>\n",
       "      <td>Graduate</td>\n",
       "    </tr>\n",
       "    <tr>\n",
       "      <th>4</th>\n",
       "      <td>8014</td>\n",
       "      <td>0</td>\n",
       "      <td>100.0</td>\n",
       "      <td>37</td>\n",
       "      <td>38</td>\n",
       "      <td>0</td>\n",
       "      <td>1</td>\n",
       "      <td>0</td>\n",
       "      <td>9</td>\n",
       "      <td>12.333333</td>\n",
       "      <td>13.9</td>\n",
       "      <td>-0.3</td>\n",
       "      <td>0.79</td>\n",
       "      <td>Graduate</td>\n",
       "    </tr>\n",
       "    <tr>\n",
       "      <th>5</th>\n",
       "      <td>9991</td>\n",
       "      <td>0</td>\n",
       "      <td>133.1</td>\n",
       "      <td>37</td>\n",
       "      <td>37</td>\n",
       "      <td>0</td>\n",
       "      <td>1</td>\n",
       "      <td>0</td>\n",
       "      <td>10</td>\n",
       "      <td>11.857143</td>\n",
       "      <td>16.2</td>\n",
       "      <td>0.3</td>\n",
       "      <td>-0.92</td>\n",
       "      <td>Graduate</td>\n",
       "    </tr>\n",
       "    <tr>\n",
       "      <th>6</th>\n",
       "      <td>9500</td>\n",
       "      <td>1</td>\n",
       "      <td>142.0</td>\n",
       "      <td>19</td>\n",
       "      <td>38</td>\n",
       "      <td>1</td>\n",
       "      <td>1</td>\n",
       "      <td>1</td>\n",
       "      <td>9</td>\n",
       "      <td>13.300000</td>\n",
       "      <td>15.5</td>\n",
       "      <td>2.8</td>\n",
       "      <td>-4.06</td>\n",
       "      <td>Graduate</td>\n",
       "    </tr>\n",
       "    <tr>\n",
       "      <th>7</th>\n",
       "      <td>9254</td>\n",
       "      <td>1</td>\n",
       "      <td>119.0</td>\n",
       "      <td>37</td>\n",
       "      <td>37</td>\n",
       "      <td>1</td>\n",
       "      <td>0</td>\n",
       "      <td>0</td>\n",
       "      <td>5</td>\n",
       "      <td>0.000000</td>\n",
       "      <td>15.5</td>\n",
       "      <td>2.8</td>\n",
       "      <td>-4.06</td>\n",
       "      <td>Dropout</td>\n",
       "    </tr>\n",
       "    <tr>\n",
       "      <th>8</th>\n",
       "      <td>9238</td>\n",
       "      <td>1</td>\n",
       "      <td>137.0</td>\n",
       "      <td>1</td>\n",
       "      <td>1</td>\n",
       "      <td>0</td>\n",
       "      <td>1</td>\n",
       "      <td>1</td>\n",
       "      <td>8</td>\n",
       "      <td>13.875000</td>\n",
       "      <td>16.2</td>\n",
       "      <td>0.3</td>\n",
       "      <td>-0.92</td>\n",
       "      <td>Graduate</td>\n",
       "    </tr>\n",
       "    <tr>\n",
       "      <th>9</th>\n",
       "      <td>9238</td>\n",
       "      <td>1</td>\n",
       "      <td>138.0</td>\n",
       "      <td>1</td>\n",
       "      <td>19</td>\n",
       "      <td>1</td>\n",
       "      <td>0</td>\n",
       "      <td>0</td>\n",
       "      <td>9</td>\n",
       "      <td>11.400000</td>\n",
       "      <td>8.9</td>\n",
       "      <td>1.4</td>\n",
       "      <td>3.51</td>\n",
       "      <td>Dropout</td>\n",
       "    </tr>\n",
       "  </tbody>\n",
       "</table>\n",
       "</div>"
      ],
      "text/plain": [
       "   Course  Daytime/evening attendance\\t  Previous qualification (grade)  \\\n",
       "0     171                             1                           122.0   \n",
       "1    9254                             1                           160.0   \n",
       "2    9070                             1                           122.0   \n",
       "3    9773                             1                           122.0   \n",
       "4    8014                             0                           100.0   \n",
       "5    9991                             0                           133.1   \n",
       "6    9500                             1                           142.0   \n",
       "7    9254                             1                           119.0   \n",
       "8    9238                             1                           137.0   \n",
       "9    9238                             1                           138.0   \n",
       "\n",
       "   Mother's qualification  Father's qualification  Displaced  \\\n",
       "0                      19                      12          1   \n",
       "1                       1                       3          1   \n",
       "2                      37                      37          1   \n",
       "3                      38                      37          1   \n",
       "4                      37                      38          0   \n",
       "5                      37                      37          0   \n",
       "6                      19                      38          1   \n",
       "7                      37                      37          1   \n",
       "8                       1                       1          0   \n",
       "9                       1                      19          1   \n",
       "\n",
       "   Tuition fees up to date  Scholarship holder  \\\n",
       "0                        1                   0   \n",
       "1                        0                   0   \n",
       "2                        0                   0   \n",
       "3                        1                   0   \n",
       "4                        1                   0   \n",
       "5                        1                   0   \n",
       "6                        1                   1   \n",
       "7                        0                   0   \n",
       "8                        1                   1   \n",
       "9                        0                   0   \n",
       "\n",
       "   Curricular units 1st sem (evaluations)  Curricular units 1st sem (grade)  \\\n",
       "0                                       0                          0.000000   \n",
       "1                                       6                         14.000000   \n",
       "2                                       0                          0.000000   \n",
       "3                                       8                         13.428571   \n",
       "4                                       9                         12.333333   \n",
       "5                                      10                         11.857143   \n",
       "6                                       9                         13.300000   \n",
       "7                                       5                          0.000000   \n",
       "8                                       8                         13.875000   \n",
       "9                                       9                         11.400000   \n",
       "\n",
       "   Unemployment rate  Inflation rate   GDP    Target  \n",
       "0               10.8             1.4  1.74   Dropout  \n",
       "1               13.9            -0.3  0.79  Graduate  \n",
       "2               10.8             1.4  1.74   Dropout  \n",
       "3                9.4            -0.8 -3.12  Graduate  \n",
       "4               13.9            -0.3  0.79  Graduate  \n",
       "5               16.2             0.3 -0.92  Graduate  \n",
       "6               15.5             2.8 -4.06  Graduate  \n",
       "7               15.5             2.8 -4.06   Dropout  \n",
       "8               16.2             0.3 -0.92  Graduate  \n",
       "9                8.9             1.4  3.51   Dropout  "
      ]
     },
     "execution_count": 48,
     "metadata": {},
     "output_type": "execute_result"
    }
   ],
   "source": [
    "# Nuevo Modelo\n",
    "df_final = df[[\"Course\", \"Daytime/evening attendance\\t\", \"Previous qualification (grade)\", \"Mother's qualification\", \"Father's qualification\", \"Displaced\", \"Tuition fees up to date\", \"Scholarship holder\", \"Curricular units 1st sem (evaluations)\", \"Curricular units 1st sem (grade)\", \"Unemployment rate\", \"Inflation rate\", \"GDP\", \"Target\"]]\n",
    "df_final.head(10)\n"
   ]
  },
  {
   "cell_type": "markdown",
   "id": "96d62309",
   "metadata": {},
   "source": [
    "# Analisis de variables\n",
    "\n",
    "### Course"
   ]
  },
  {
   "cell_type": "code",
   "execution_count": 54,
   "id": "7a50f8e5",
   "metadata": {},
   "outputs": [
    {
     "data": {
      "text/plain": [
       "array([ 171, 9254, 9070, 9773, 8014, 9991, 9500, 9238, 9670, 9853, 9085,\n",
       "       9130, 9556, 9147, 9003,   33, 9119], dtype=int64)"
      ]
     },
     "execution_count": 54,
     "metadata": {},
     "output_type": "execute_result"
    }
   ],
   "source": [
    "# Valores unicos \n",
    "df_final[\"Course\"].unique()"
   ]
  },
  {
   "cell_type": "code",
   "execution_count": 109,
   "id": "38085984",
   "metadata": {},
   "outputs": [
    {
     "data": {
      "text/plain": [
       "9500    766\n",
       "9147    380\n",
       "9238    355\n",
       "9085    337\n",
       "9773    331\n",
       "9670    268\n",
       "9991    268\n",
       "9254    252\n",
       "9070    226\n",
       "171     215\n",
       "8014    215\n",
       "9003    210\n",
       "9853    192\n",
       "9119    170\n",
       "9130    141\n",
       "9556     86\n",
       "33       12\n",
       "Name: Course, dtype: int64"
      ]
     },
     "execution_count": 109,
     "metadata": {},
     "output_type": "execute_result"
    }
   ],
   "source": [
    "# Frecuencia de los valores unicos\n",
    "df_final[\"Course\"].value_counts()"
   ]
  },
  {
   "cell_type": "markdown",
   "id": "5136cc03",
   "metadata": {},
   "source": [
    "# Curricular units 1st sem (evaluations)"
   ]
  },
  {
   "cell_type": "code",
   "execution_count": 110,
   "id": "4246fa84",
   "metadata": {},
   "outputs": [
    {
     "data": {
      "image/png": "[encoded data removed]",
      "text/plain": [
       "<Figure size 432x288 with 1 Axes>"
      ]
     },
     "metadata": {
      "needs_background": "light"
     },
     "output_type": "display_data"
    }
   ],
   "source": [
    "# Crear un histograma para columna_A\n",
    "frecuencia, bins, p = plt.hist(df_final[\"Curricular units 1st sem (evaluations)\"], bins = 6, edgecolor='black')  # Ajusta el número en 'bins' según cómo quieras los intervalos\n",
    "plt.title('Histograma de Curricular units 1st (evaluations)')\n",
    "plt.xlabel('Valor')\n",
    "plt.ylabel('Frecuencia')\n",
    "plt.grid(True)\n",
    "plt.show()"
   ]
  },
  {
   "cell_type": "code",
   "execution_count": 111,
   "id": "49b5fd9c",
   "metadata": {},
   "outputs": [
    {
     "data": {
      "text/plain": [
       "array([1.909e+03, 2.240e+03, 2.420e+02, 2.700e+01, 4.000e+00, 2.000e+00])"
      ]
     },
     "execution_count": 111,
     "metadata": {},
     "output_type": "execute_result"
    }
   ],
   "source": [
    "frecuencia"
   ]
  },
  {
   "cell_type": "code",
   "execution_count": 112,
   "id": "4cf560be",
   "metadata": {},
   "outputs": [
    {
     "data": {
      "text/plain": [
       "array([ 0. ,  7.5, 15. , 22.5, 30. , 37.5, 45. ])"
      ]
     },
     "execution_count": 112,
     "metadata": {},
     "output_type": "execute_result"
    }
   ],
   "source": [
    "bins"
   ]
  },
  {
   "cell_type": "markdown",
   "id": "fa6d276a",
   "metadata": {},
   "source": [
    "Se pueden tomar 6 clases para la variable _Curricular units 1st sem (evaluations)_ y definirlas de la siguiente forma:\n",
    "\n",
    "* (0 , 7.5) -> Muy Bajo (MB)\n",
    "* (7.5 , 15) -> Bajo (B)\n",
    "* (15 , 22.5) -> Intermedio Bajo (IB)\n",
    "* (22.5 , 30) -> Intermadio Alto (IA)\n",
    "* (30 , 37.5) -> Alto (A)\n",
    "* (37.5 , 45) -> Muy Alto (MA)\n",
    "\n",
    "En nuestro curso se realizan minimo 15 talleres y 3 proyectos, con lo cual, son 18 evaluaciones que se realizan dentro del curso. (SE TOMA COMO REFERENCIA)"
   ]
  },
  {
   "cell_type": "code",
   "execution_count": 113,
   "id": "d1ae35d3",
   "metadata": {},
   "outputs": [
    {
     "data": {
      "text/plain": [
       "0       MB\n",
       "1       MB\n",
       "2       MB\n",
       "3        B\n",
       "4        B\n",
       "        ..\n",
       "4419    MB\n",
       "4420    MB\n",
       "4421     B\n",
       "4422    MB\n",
       "4423     B\n",
       "Name: Curricular units 1st sem (evaluations) new, Length: 4424, dtype: category\n",
       "Categories (6, object): ['MB' < 'B' < 'IB' < 'IA' < 'A' < 'MA']"
      ]
     },
     "execution_count": 113,
     "metadata": {},
     "output_type": "execute_result"
    }
   ],
   "source": [
    "#Se crea la lista con las clases de la nueva variable discretizada\n",
    "labels = ['MB', 'B', 'IB', 'IA', 'A', 'MA']\n",
    "\n",
    "#Se crea una nueva columna discretizdada dentro del dataframe final \n",
    "df_final['Curricular units 1st sem (evaluations) new'] = pd.cut(df_final['Curricular units 1st sem (evaluations)'], bins = bins, labels = labels, right = True,  include_lowest=True)\n",
    "\n",
    "#Visualización de la nueva columna discretizada\n",
    "df_final['Curricular units 1st sem (evaluations) new']"
   ]
  },
  {
   "cell_type": "markdown",
   "id": "451e8da5",
   "metadata": {},
   "source": [
    "# Inflation rate\n"
   ]
  },
  {
   "cell_type": "code",
   "execution_count": 126,
   "id": "cd45b8cb",
   "metadata": {},
   "outputs": [
    {
     "data": {
      "image/png": "[encoded data removed]",
      "text/plain": [
       "<Figure size 432x288 with 1 Axes>"
      ]
     },
     "metadata": {
      "needs_background": "light"
     },
     "output_type": "display_data"
    }
   ],
   "source": [
    "frecuencia, bins, p = plt.hist(df_final[\"Inflation rate\"], bins = 6, edgecolor='black')  # Ajusta el número en 'bins' según cómo quieras los intervalos\n",
    "plt.title('Histograma de la inflación')\n",
    "plt.xlabel('Valor')\n",
    "plt.ylabel('Frecuencia')\n",
    "plt.grid(True)\n",
    "plt.show()"
   ]
  },
  {
   "cell_type": "code",
   "execution_count": 124,
   "id": "ec604a16",
   "metadata": {},
   "outputs": [
    {
     "data": {
      "text/plain": [
       "array([2144.,  893., 1387.])"
      ]
     },
     "execution_count": 124,
     "metadata": {},
     "output_type": "execute_result"
    }
   ],
   "source": [
    "frecuencia"
   ]
  },
  {
   "cell_type": "code",
   "execution_count": 125,
   "id": "8f9b7dce",
   "metadata": {},
   "outputs": [
    {
     "data": {
      "text/plain": [
       "array([-0.8,  0.7,  2.2,  3.7])"
      ]
     },
     "execution_count": 125,
     "metadata": {},
     "output_type": "execute_result"
    }
   ],
   "source": [
    "bins"
   ]
  },
  {
   "cell_type": "markdown",
   "id": "62cf8883",
   "metadata": {},
   "source": [
    "Para el caso de la inflación se tomó como referencia los valores objetivo del banco de la republica de Colombia. Según la junta directiva del banco central del pais la meta de inflación anual se encuentra en un 3% y el rango aceptable se encuentra dentro del +/-1%. Según este orden de ideas, se discretizará esta variable del modelo (_Inflation rate_) de la siguiente forma:\n",
    "\n",
    "* (-1 , 1) -> Baja (B)\n",
    "* (1 , 3) -> Media (M)\n",
    "* (3 , 4) -> Alta (A)\n",
    "\n",
    "https://www.banrep.gov.co/es/glosario/meta-inflacion#:~:text=En%20Colombia%20la%20meta%20de,encuentra%20en%20el%203%20%25%20anual."
   ]
  },
  {
   "cell_type": "code",
   "execution_count": 116,
   "id": "ed9c0552",
   "metadata": {},
   "outputs": [
    {
     "name": "stderr",
     "output_type": "stream",
     "text": [
      "C:\\Users\\jgvm\\AppData\\Local\\Temp\\ipykernel_10416\\3597605696.py:7: SettingWithCopyWarning: \n",
      "A value is trying to be set on a copy of a slice from a DataFrame.\n",
      "Try using .loc[row_indexer,col_indexer] = value instead\n",
      "\n",
      "See the caveats in the documentation: https://pandas.pydata.org/pandas-docs/stable/user_guide/indexing.html#returning-a-view-versus-a-copy\n",
      "  df_final['Inflation rate new'] = pd.cut(df_final['Inflation rate'], bins = bins, labels = labels, right = True,  include_lowest=True)\n"
     ]
    },
    {
     "data": {
      "text/plain": [
       "0       M\n",
       "1       B\n",
       "2       M\n",
       "3       B\n",
       "4       B\n",
       "       ..\n",
       "4419    M\n",
       "4420    B\n",
       "4421    B\n",
       "4422    B\n",
       "4423    A\n",
       "Name: Inflation rate new, Length: 4424, dtype: category\n",
       "Categories (3, object): ['B' < 'M' < 'A']"
      ]
     },
     "execution_count": 116,
     "metadata": {},
     "output_type": "execute_result"
    }
   ],
   "source": [
    "#Se crea la lista con los rangos númericos a discretizar\n",
    "bins = [-1, 1, 3, 4]\n",
    "#Se crea la lista con las clases de la nueva variable discretizada\n",
    "labels = ['B', 'M', 'A'] \n",
    "\n",
    "#Se crea una nueva columna discretizdada dentro del dataframe final \n",
    "df_final['Inflation rate new'] = pd.cut(df_final['Inflation rate'], bins = bins, labels = labels, right = True,  include_lowest=True)\n",
    "\n",
    "#Visualización de la nueva columna discretizada\n",
    "df_final['Inflation rate new']"
   ]
  },
  {
   "cell_type": "markdown",
   "id": "30ed25b4",
   "metadata": {},
   "source": [
    "# Previous qualification (grade)"
   ]
  },
  {
   "cell_type": "code",
   "execution_count": 127,
   "id": "41975c6b",
   "metadata": {},
   "outputs": [
    {
     "data": {
      "image/png": "[encoded data removed]",
      "text/plain": [
       "<Figure size 432x288 with 1 Axes>"
      ]
     },
     "metadata": {
      "needs_background": "light"
     },
     "output_type": "display_data"
    }
   ],
   "source": [
    "frecuencia, bins, p = plt.hist(df_final[\"Previous qualification (grade)\"], bins = 6, edgecolor='black')  # Ajusta el número en 'bins' según cómo quieras los intervalos\n",
    "plt.title('Histograma de Previous qualifications (grade)')\n",
    "plt.xlabel('Valor')\n",
    "plt.ylabel('Frecuencia')\n",
    "plt.grid(True)\n",
    "plt.show()"
   ]
  },
  {
   "cell_type": "code",
   "execution_count": 128,
   "id": "77640968",
   "metadata": {},
   "outputs": [
    {
     "data": {
      "text/plain": [
       "array([ 237., 1069., 2326.,  588.,  184.,   20.])"
      ]
     },
     "execution_count": 128,
     "metadata": {},
     "output_type": "execute_result"
    }
   ],
   "source": [
    "frecuencia"
   ]
  },
  {
   "cell_type": "code",
   "execution_count": 139,
   "id": "1036ab3b",
   "metadata": {},
   "outputs": [
    {
     "data": {
      "text/plain": [
       "184.0"
      ]
     },
     "execution_count": 139,
     "metadata": {},
     "output_type": "execute_result"
    }
   ],
   "source": [
    "bins\n",
    "4.6*40"
   ]
  },
  {
   "cell_type": "markdown",
   "id": "6d6a557a",
   "metadata": {},
   "source": [
    "El sistema actual de valoración de los estudiantes en Colombia se rige por el decreto 1920 del 2009. En este se estipula 4 categorias en los que se clasifican los estudiantes según sus resultados academicos. A continuación se presentan dichas categorias y su representación cuantitativa:\n",
    "\n",
    "* (0.0, 2.9) -> Desempeño Bajo\n",
    "* (3.0, 3.9) -> Desempeño Basico\n",
    "* (4.0, 4.5) -> Desemepeño Alto\n",
    "* (4.6, 5.0) -> Desempeño Superior\n",
    "\n",
    "Según lo anterior, se procederá a clasificar de la misma forma la variable continua _Previous quailification (grade)_ que se encuentra dentro del modelo. Por lo tanto, será necesario ajustar los rangos cualitativos respecto a nuestra variable ya que esta tiene un rango entre 0 a 200 puntos. Según este orden de ideas, la clasificación cualitativa estará representada de la siguiente forma:\n",
    "\n",
    "* (0.0, 116) -> Desempeño Bajo\n",
    "* (117, 156) -> Desempeño Basico\n",
    "* (157, 180) -> Desempeño Alto\n",
    "* (181, 200) -> Desemepeño Superior\n",
    "\n",
    "\n",
    "https://www.mineducacion.gov.co/1621/articles-213769_archivo_pdf_evaluacion.pdf"
   ]
  },
  {
   "cell_type": "code",
   "execution_count": 130,
   "id": "c75c81d8",
   "metadata": {},
   "outputs": [
    {
     "name": "stderr",
     "output_type": "stream",
     "text": [
      "C:\\Users\\jgvm\\AppData\\Local\\Temp\\ipykernel_10416\\1297186942.py:5: SettingWithCopyWarning: \n",
      "A value is trying to be set on a copy of a slice from a DataFrame.\n",
      "Try using .loc[row_indexer,col_indexer] = value instead\n",
      "\n",
      "See the caveats in the documentation: https://pandas.pydata.org/pandas-docs/stable/user_guide/indexing.html#returning-a-view-versus-a-copy\n",
      "  df_final['Previous qualification (grade) new'] = pd.cut(df_final['Previous qualification (grade)'], bins = bins, labels = labels, right = True,  include_lowest=True)\n"
     ]
    },
    {
     "data": {
      "text/plain": [
       "0       b\n",
       "1       e\n",
       "2       b\n",
       "3       b\n",
       "4       a\n",
       "       ..\n",
       "4419    b\n",
       "4420    b\n",
       "4421    d\n",
       "4422    f\n",
       "4423    d\n",
       "Name: Previous qualification (grade) new, Length: 4424, dtype: category\n",
       "Categories (6, object): ['a' < 'b' < 'c' < 'd' < 'e' < 'f']"
      ]
     },
     "execution_count": 130,
     "metadata": {},
     "output_type": "execute_result"
    }
   ],
   "source": [
    "#Se crea la lista con las clases de la nueva variable discretizada\n",
    "labels = ['a', 'b', 'c', 'd', 'e', 'f']\n",
    "\n",
    "#Se crea una nueva columna discretizdada dentro del dataframe final \n",
    "df_final['Previous qualification (grade) new'] = pd.cut(df_final['Previous qualification (grade)'], bins = bins, labels = labels, right = True,  include_lowest=True)\n",
    "\n",
    "#Visualización de la nueva columna discretizada\n",
    "df_final['Previous qualification (grade) new']"
   ]
  },
  {
   "cell_type": "code",
   "execution_count": null,
   "id": "098d8d9e",
   "metadata": {},
   "outputs": [],
   "source": []
  }
 ],
 "metadata": {
  "kernelspec": {
   "display_name": "Python 3 (ipykernel)",
   "language": "python",
   "name": "python3"
  },
  "language_info": {
   "codemirror_mode": {
    "name": "ipython",
    "version": 3
   },
   "file_extension": ".py",
   "mimetype": "text/x-python",
   "name": "python",
   "nbconvert_exporter": "python",
   "pygments_lexer": "ipython3",
   "version": "3.9.12"
  }
 },
 "nbformat": 4,
 "nbformat_minor": 5
}
