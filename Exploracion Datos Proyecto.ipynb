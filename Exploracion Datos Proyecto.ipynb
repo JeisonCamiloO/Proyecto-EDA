{
 "cells": [
  {
   "cell_type": "markdown",
   "id": "76e25133",
   "metadata": {},
   "source": [
    "# Análisis Exploratorio de Datos\n",
    "El siguiente informe muestra el comportamiento de las variables seleccionadas del conjunto de datos *Predict students dropout and academic success* para modelar el comportamiento de el éxito o deserción universitaria a través de una red bayesiana. Con los resultados encontrados cualquier universidad podrá contar con un modelo predictivo con el fin de generar estrategias que le permitan disminuir y prevenir de manera proactiva la deserción. \n",
    "\n",
    "Para la lectura y manipulación de los datos se utilizó la librería pandas."
   ]
  },
  {
   "cell_type": "code",
   "execution_count": 28,
   "id": "f1ad3fe9",
   "metadata": {},
   "outputs": [],
   "source": [
    "#Importar librerías\n",
    "import numpy as np\n",
    "import pandas as pd\n",
    "import seaborn as sns"
   ]
  },
  {
   "cell_type": "code",
   "execution_count": 29,
   "id": "ebffb5b3",
   "metadata": {},
   "outputs": [],
   "source": [
    "#Lectura de los datos\n",
    "df = pd.read_csv('data.csv', sep=';')"
   ]
  },
  {
   "cell_type": "markdown",
   "id": "d9248785",
   "metadata": {},
   "source": [
    "## 1. Reconocimiento de la información del data frame\n",
    "Para iniciar es clave identificar el tamaño y las dimensiones del conjunto de datos con la función shape. Posterior a esto se revisaron las columnas de la tabla con el atributo columns del objeto df."
   ]
  },
  {
   "cell_type": "code",
   "execution_count": 30,
   "id": "714cfe43",
   "metadata": {},
   "outputs": [
    {
     "data": {
      "text/plain": [
       "163688"
      ]
     },
     "execution_count": 30,
     "metadata": {},
     "output_type": "execute_result"
    }
   ],
   "source": [
    "#Tamaño del data frame\n",
    "df.size"
   ]
  },
  {
   "cell_type": "code",
   "execution_count": 31,
   "id": "eb1a1c06",
   "metadata": {},
   "outputs": [
    {
     "data": {
      "text/plain": [
       "(4424, 37)"
      ]
     },
     "execution_count": 31,
     "metadata": {},
     "output_type": "execute_result"
    }
   ],
   "source": [
    "#Dimensiones del conjunto de datos\n",
    "df.shape"
   ]
  },
  {
   "cell_type": "code",
   "execution_count": 32,
   "id": "b0823315",
   "metadata": {},
   "outputs": [
    {
     "data": {
      "text/plain": [
       "Index(['Marital status', 'Application mode', 'Application order', 'Course',\n",
       "       'Daytime/evening attendance\\t', 'Previous qualification',\n",
       "       'Previous qualification (grade)', 'Nacionality',\n",
       "       'Mother's qualification', 'Father's qualification',\n",
       "       'Mother's occupation', 'Father's occupation', 'Admission grade',\n",
       "       'Displaced', 'Educational special needs', 'Debtor',\n",
       "       'Tuition fees up to date', 'Gender', 'Scholarship holder',\n",
       "       'Age at enrollment', 'International',\n",
       "       'Curricular units 1st sem (credited)',\n",
       "       'Curricular units 1st sem (enrolled)',\n",
       "       'Curricular units 1st sem (evaluations)',\n",
       "       'Curricular units 1st sem (approved)',\n",
       "       'Curricular units 1st sem (grade)',\n",
       "       'Curricular units 1st sem (without evaluations)',\n",
       "       'Curricular units 2nd sem (credited)',\n",
       "       'Curricular units 2nd sem (enrolled)',\n",
       "       'Curricular units 2nd sem (evaluations)',\n",
       "       'Curricular units 2nd sem (approved)',\n",
       "       'Curricular units 2nd sem (grade)',\n",
       "       'Curricular units 2nd sem (without evaluations)', 'Unemployment rate',\n",
       "       'Inflation rate', 'GDP', 'Target'],\n",
       "      dtype='object')"
      ]
     },
     "execution_count": 32,
     "metadata": {},
     "output_type": "execute_result"
    }
   ],
   "source": [
    "#Columnas del Data Frame\n",
    "df.columns"
   ]
  },
  {
   "cell_type": "markdown",
   "id": "3f62828a",
   "metadata": {},
   "source": [
    "## 2. Análisis por columna"
   ]
  },
  {
   "cell_type": "code",
   "execution_count": 33,
   "id": "e2787799",
   "metadata": {},
   "outputs": [
    {
     "name": "stdout",
     "output_type": "stream",
     "text": [
      "<class 'pandas.core.frame.DataFrame'>\n",
      "RangeIndex: 4424 entries, 0 to 4423\n",
      "Data columns (total 37 columns):\n",
      " #   Column                                          Non-Null Count  Dtype  \n",
      "---  ------                                          --------------  -----  \n",
      " 0   Marital status                                  4424 non-null   int64  \n",
      " 1   Application mode                                4424 non-null   int64  \n",
      " 2   Application order                               4424 non-null   int64  \n",
      " 3   Course                                          4424 non-null   int64  \n",
      " 4   Daytime/evening attendance\t                     4424 non-null   int64  \n",
      " 5   Previous qualification                          4424 non-null   int64  \n",
      " 6   Previous qualification (grade)                  4424 non-null   float64\n",
      " 7   Nacionality                                     4424 non-null   int64  \n",
      " 8   Mother's qualification                          4424 non-null   int64  \n",
      " 9   Father's qualification                          4424 non-null   int64  \n",
      " 10  Mother's occupation                             4424 non-null   int64  \n",
      " 11  Father's occupation                             4424 non-null   int64  \n",
      " 12  Admission grade                                 4424 non-null   float64\n",
      " 13  Displaced                                       4424 non-null   int64  \n",
      " 14  Educational special needs                       4424 non-null   int64  \n",
      " 15  Debtor                                          4424 non-null   int64  \n",
      " 16  Tuition fees up to date                         4424 non-null   int64  \n",
      " 17  Gender                                          4424 non-null   int64  \n",
      " 18  Scholarship holder                              4424 non-null   int64  \n",
      " 19  Age at enrollment                               4424 non-null   int64  \n",
      " 20  International                                   4424 non-null   int64  \n",
      " 21  Curricular units 1st sem (credited)             4424 non-null   int64  \n",
      " 22  Curricular units 1st sem (enrolled)             4424 non-null   int64  \n",
      " 23  Curricular units 1st sem (evaluations)          4424 non-null   int64  \n",
      " 24  Curricular units 1st sem (approved)             4424 non-null   int64  \n",
      " 25  Curricular units 1st sem (grade)                4424 non-null   float64\n",
      " 26  Curricular units 1st sem (without evaluations)  4424 non-null   int64  \n",
      " 27  Curricular units 2nd sem (credited)             4424 non-null   int64  \n",
      " 28  Curricular units 2nd sem (enrolled)             4424 non-null   int64  \n",
      " 29  Curricular units 2nd sem (evaluations)          4424 non-null   int64  \n",
      " 30  Curricular units 2nd sem (approved)             4424 non-null   int64  \n",
      " 31  Curricular units 2nd sem (grade)                4424 non-null   float64\n",
      " 32  Curricular units 2nd sem (without evaluations)  4424 non-null   int64  \n",
      " 33  Unemployment rate                               4424 non-null   float64\n",
      " 34  Inflation rate                                  4424 non-null   float64\n",
      " 35  GDP                                             4424 non-null   float64\n",
      " 36  Target                                          4424 non-null   object \n",
      "dtypes: float64(7), int64(29), object(1)\n",
      "memory usage: 1.2+ MB\n"
     ]
    }
   ],
   "source": [
    "# Cantidad de valores no nulos en el dataframe y tipo de variables\n",
    "df.info(memory_usage=True, show_counts=True)"
   ]
  },
  {
   "cell_type": "code",
   "execution_count": 34,
   "id": "69191d89",
   "metadata": {},
   "outputs": [
    {
     "data": {
      "text/plain": [
       "Marital status                                      6\n",
       "Application mode                                   18\n",
       "Application order                                   8\n",
       "Course                                             17\n",
       "Daytime/evening attendance\\t                        2\n",
       "Previous qualification                             17\n",
       "Previous qualification (grade)                    101\n",
       "Nacionality                                        21\n",
       "Mother's qualification                             29\n",
       "Father's qualification                             34\n",
       "Mother's occupation                                32\n",
       "Father's occupation                                46\n",
       "Admission grade                                   620\n",
       "Displaced                                           2\n",
       "Educational special needs                           2\n",
       "Debtor                                              2\n",
       "Tuition fees up to date                             2\n",
       "Gender                                              2\n",
       "Scholarship holder                                  2\n",
       "Age at enrollment                                  46\n",
       "International                                       2\n",
       "Curricular units 1st sem (credited)                21\n",
       "Curricular units 1st sem (enrolled)                23\n",
       "Curricular units 1st sem (evaluations)             35\n",
       "Curricular units 1st sem (approved)                23\n",
       "Curricular units 1st sem (grade)                  805\n",
       "Curricular units 1st sem (without evaluations)     11\n",
       "Curricular units 2nd sem (credited)                19\n",
       "Curricular units 2nd sem (enrolled)                22\n",
       "Curricular units 2nd sem (evaluations)             30\n",
       "Curricular units 2nd sem (approved)                20\n",
       "Curricular units 2nd sem (grade)                  786\n",
       "Curricular units 2nd sem (without evaluations)     10\n",
       "Unemployment rate                                  10\n",
       "Inflation rate                                      9\n",
       "GDP                                                10\n",
       "Target                                              3\n",
       "dtype: int64"
      ]
     },
     "execution_count": 34,
     "metadata": {},
     "output_type": "execute_result"
    }
   ],
   "source": [
    "#Valores distintos por columna\n",
    "df.nunique()"
   ]
  },
  {
   "cell_type": "markdown",
   "id": "35cac47e",
   "metadata": {},
   "source": [
    "# 3. Selección de datos de interés\n",
    "\n",
    "Considerando los posibles intereses del cliente final y lo encontrado en la literatura, se hizo una primera selección de variables:\n",
    "\n",
    "1. Course\n",
    "2. Daytime/evening attendance\n",
    "3. Previous qualification (grade)\n",
    "4. Mother's qualification\n",
    "5. Father's qualification\n",
    "6. Admission grade\n",
    "7. Displaced\n",
    "8. Tuition fees up to date\n",
    "9. Scholarship holder\n",
    "10. Curricular units 1st sem (evaluations)\n",
    "11. Curricular units 1st sem (grade)\n",
    "12. Curricular units 2nd sem (evaluations)\n",
    "13. Curricular units 2nd sem (grade)\n",
    "14. Unemployment rate\n",
    "15. Inflation rate\n",
    "16. GDP\n",
    "17. Target"
   ]
  },
  {
   "cell_type": "code",
   "execution_count": 35,
   "id": "7c563a34",
   "metadata": {},
   "outputs": [
    {
     "data": {
      "text/html": [
       "<div>\n",
       "<style scoped>\n",
       "    .dataframe tbody tr th:only-of-type {\n",
       "        vertical-align: middle;\n",
       "    }\n",
       "\n",
       "    .dataframe tbody tr th {\n",
       "        vertical-align: top;\n",
       "    }\n",
       "\n",
       "    .dataframe thead th {\n",
       "        text-align: right;\n",
       "    }\n",
       "</style>\n",
       "<table border=\"1\" class=\"dataframe\">\n",
       "  <thead>\n",
       "    <tr style=\"text-align: right;\">\n",
       "      <th></th>\n",
       "      <th>Course</th>\n",
       "      <th>Daytime/evening attendance\\t</th>\n",
       "      <th>Previous qualification (grade)</th>\n",
       "      <th>Mother's qualification</th>\n",
       "      <th>Father's qualification</th>\n",
       "      <th>Admission grade</th>\n",
       "      <th>Displaced</th>\n",
       "      <th>Tuition fees up to date</th>\n",
       "      <th>Scholarship holder</th>\n",
       "      <th>Curricular units 1st sem (evaluations)</th>\n",
       "      <th>Curricular units 1st sem (grade)</th>\n",
       "      <th>Curricular units 2nd sem (evaluations)</th>\n",
       "      <th>Curricular units 2nd sem (grade)</th>\n",
       "      <th>Unemployment rate</th>\n",
       "      <th>Inflation rate</th>\n",
       "      <th>GDP</th>\n",
       "      <th>Target</th>\n",
       "    </tr>\n",
       "  </thead>\n",
       "  <tbody>\n",
       "    <tr>\n",
       "      <th>0</th>\n",
       "      <td>171</td>\n",
       "      <td>1</td>\n",
       "      <td>122.0</td>\n",
       "      <td>19</td>\n",
       "      <td>12</td>\n",
       "      <td>127.3</td>\n",
       "      <td>1</td>\n",
       "      <td>1</td>\n",
       "      <td>0</td>\n",
       "      <td>0</td>\n",
       "      <td>0.000000</td>\n",
       "      <td>0</td>\n",
       "      <td>0.000000</td>\n",
       "      <td>10.8</td>\n",
       "      <td>1.4</td>\n",
       "      <td>1.74</td>\n",
       "      <td>Dropout</td>\n",
       "    </tr>\n",
       "    <tr>\n",
       "      <th>1</th>\n",
       "      <td>9254</td>\n",
       "      <td>1</td>\n",
       "      <td>160.0</td>\n",
       "      <td>1</td>\n",
       "      <td>3</td>\n",
       "      <td>142.5</td>\n",
       "      <td>1</td>\n",
       "      <td>0</td>\n",
       "      <td>0</td>\n",
       "      <td>6</td>\n",
       "      <td>14.000000</td>\n",
       "      <td>6</td>\n",
       "      <td>13.666667</td>\n",
       "      <td>13.9</td>\n",
       "      <td>-0.3</td>\n",
       "      <td>0.79</td>\n",
       "      <td>Graduate</td>\n",
       "    </tr>\n",
       "    <tr>\n",
       "      <th>2</th>\n",
       "      <td>9070</td>\n",
       "      <td>1</td>\n",
       "      <td>122.0</td>\n",
       "      <td>37</td>\n",
       "      <td>37</td>\n",
       "      <td>124.8</td>\n",
       "      <td>1</td>\n",
       "      <td>0</td>\n",
       "      <td>0</td>\n",
       "      <td>0</td>\n",
       "      <td>0.000000</td>\n",
       "      <td>0</td>\n",
       "      <td>0.000000</td>\n",
       "      <td>10.8</td>\n",
       "      <td>1.4</td>\n",
       "      <td>1.74</td>\n",
       "      <td>Dropout</td>\n",
       "    </tr>\n",
       "    <tr>\n",
       "      <th>3</th>\n",
       "      <td>9773</td>\n",
       "      <td>1</td>\n",
       "      <td>122.0</td>\n",
       "      <td>38</td>\n",
       "      <td>37</td>\n",
       "      <td>119.6</td>\n",
       "      <td>1</td>\n",
       "      <td>1</td>\n",
       "      <td>0</td>\n",
       "      <td>8</td>\n",
       "      <td>13.428571</td>\n",
       "      <td>10</td>\n",
       "      <td>12.400000</td>\n",
       "      <td>9.4</td>\n",
       "      <td>-0.8</td>\n",
       "      <td>-3.12</td>\n",
       "      <td>Graduate</td>\n",
       "    </tr>\n",
       "    <tr>\n",
       "      <th>4</th>\n",
       "      <td>8014</td>\n",
       "      <td>0</td>\n",
       "      <td>100.0</td>\n",
       "      <td>37</td>\n",
       "      <td>38</td>\n",
       "      <td>141.5</td>\n",
       "      <td>0</td>\n",
       "      <td>1</td>\n",
       "      <td>0</td>\n",
       "      <td>9</td>\n",
       "      <td>12.333333</td>\n",
       "      <td>6</td>\n",
       "      <td>13.000000</td>\n",
       "      <td>13.9</td>\n",
       "      <td>-0.3</td>\n",
       "      <td>0.79</td>\n",
       "      <td>Graduate</td>\n",
       "    </tr>\n",
       "    <tr>\n",
       "      <th>5</th>\n",
       "      <td>9991</td>\n",
       "      <td>0</td>\n",
       "      <td>133.1</td>\n",
       "      <td>37</td>\n",
       "      <td>37</td>\n",
       "      <td>114.8</td>\n",
       "      <td>0</td>\n",
       "      <td>1</td>\n",
       "      <td>0</td>\n",
       "      <td>10</td>\n",
       "      <td>11.857143</td>\n",
       "      <td>17</td>\n",
       "      <td>11.500000</td>\n",
       "      <td>16.2</td>\n",
       "      <td>0.3</td>\n",
       "      <td>-0.92</td>\n",
       "      <td>Graduate</td>\n",
       "    </tr>\n",
       "    <tr>\n",
       "      <th>6</th>\n",
       "      <td>9500</td>\n",
       "      <td>1</td>\n",
       "      <td>142.0</td>\n",
       "      <td>19</td>\n",
       "      <td>38</td>\n",
       "      <td>128.4</td>\n",
       "      <td>1</td>\n",
       "      <td>1</td>\n",
       "      <td>1</td>\n",
       "      <td>9</td>\n",
       "      <td>13.300000</td>\n",
       "      <td>8</td>\n",
       "      <td>14.345000</td>\n",
       "      <td>15.5</td>\n",
       "      <td>2.8</td>\n",
       "      <td>-4.06</td>\n",
       "      <td>Graduate</td>\n",
       "    </tr>\n",
       "    <tr>\n",
       "      <th>7</th>\n",
       "      <td>9254</td>\n",
       "      <td>1</td>\n",
       "      <td>119.0</td>\n",
       "      <td>37</td>\n",
       "      <td>37</td>\n",
       "      <td>113.1</td>\n",
       "      <td>1</td>\n",
       "      <td>0</td>\n",
       "      <td>0</td>\n",
       "      <td>5</td>\n",
       "      <td>0.000000</td>\n",
       "      <td>5</td>\n",
       "      <td>0.000000</td>\n",
       "      <td>15.5</td>\n",
       "      <td>2.8</td>\n",
       "      <td>-4.06</td>\n",
       "      <td>Dropout</td>\n",
       "    </tr>\n",
       "    <tr>\n",
       "      <th>8</th>\n",
       "      <td>9238</td>\n",
       "      <td>1</td>\n",
       "      <td>137.0</td>\n",
       "      <td>1</td>\n",
       "      <td>1</td>\n",
       "      <td>129.3</td>\n",
       "      <td>0</td>\n",
       "      <td>1</td>\n",
       "      <td>1</td>\n",
       "      <td>8</td>\n",
       "      <td>13.875000</td>\n",
       "      <td>7</td>\n",
       "      <td>14.142857</td>\n",
       "      <td>16.2</td>\n",
       "      <td>0.3</td>\n",
       "      <td>-0.92</td>\n",
       "      <td>Graduate</td>\n",
       "    </tr>\n",
       "    <tr>\n",
       "      <th>9</th>\n",
       "      <td>9238</td>\n",
       "      <td>1</td>\n",
       "      <td>138.0</td>\n",
       "      <td>1</td>\n",
       "      <td>19</td>\n",
       "      <td>123.0</td>\n",
       "      <td>1</td>\n",
       "      <td>0</td>\n",
       "      <td>0</td>\n",
       "      <td>9</td>\n",
       "      <td>11.400000</td>\n",
       "      <td>14</td>\n",
       "      <td>13.500000</td>\n",
       "      <td>8.9</td>\n",
       "      <td>1.4</td>\n",
       "      <td>3.51</td>\n",
       "      <td>Dropout</td>\n",
       "    </tr>\n",
       "  </tbody>\n",
       "</table>\n",
       "</div>"
      ],
      "text/plain": [
       "   Course  Daytime/evening attendance\\t  Previous qualification (grade)  \\\n",
       "0     171                             1                           122.0   \n",
       "1    9254                             1                           160.0   \n",
       "2    9070                             1                           122.0   \n",
       "3    9773                             1                           122.0   \n",
       "4    8014                             0                           100.0   \n",
       "5    9991                             0                           133.1   \n",
       "6    9500                             1                           142.0   \n",
       "7    9254                             1                           119.0   \n",
       "8    9238                             1                           137.0   \n",
       "9    9238                             1                           138.0   \n",
       "\n",
       "   Mother's qualification  Father's qualification  Admission grade  Displaced  \\\n",
       "0                      19                      12            127.3          1   \n",
       "1                       1                       3            142.5          1   \n",
       "2                      37                      37            124.8          1   \n",
       "3                      38                      37            119.6          1   \n",
       "4                      37                      38            141.5          0   \n",
       "5                      37                      37            114.8          0   \n",
       "6                      19                      38            128.4          1   \n",
       "7                      37                      37            113.1          1   \n",
       "8                       1                       1            129.3          0   \n",
       "9                       1                      19            123.0          1   \n",
       "\n",
       "   Tuition fees up to date  Scholarship holder  \\\n",
       "0                        1                   0   \n",
       "1                        0                   0   \n",
       "2                        0                   0   \n",
       "3                        1                   0   \n",
       "4                        1                   0   \n",
       "5                        1                   0   \n",
       "6                        1                   1   \n",
       "7                        0                   0   \n",
       "8                        1                   1   \n",
       "9                        0                   0   \n",
       "\n",
       "   Curricular units 1st sem (evaluations)  Curricular units 1st sem (grade)  \\\n",
       "0                                       0                          0.000000   \n",
       "1                                       6                         14.000000   \n",
       "2                                       0                          0.000000   \n",
       "3                                       8                         13.428571   \n",
       "4                                       9                         12.333333   \n",
       "5                                      10                         11.857143   \n",
       "6                                       9                         13.300000   \n",
       "7                                       5                          0.000000   \n",
       "8                                       8                         13.875000   \n",
       "9                                       9                         11.400000   \n",
       "\n",
       "   Curricular units 2nd sem (evaluations)  Curricular units 2nd sem (grade)  \\\n",
       "0                                       0                          0.000000   \n",
       "1                                       6                         13.666667   \n",
       "2                                       0                          0.000000   \n",
       "3                                      10                         12.400000   \n",
       "4                                       6                         13.000000   \n",
       "5                                      17                         11.500000   \n",
       "6                                       8                         14.345000   \n",
       "7                                       5                          0.000000   \n",
       "8                                       7                         14.142857   \n",
       "9                                      14                         13.500000   \n",
       "\n",
       "   Unemployment rate  Inflation rate   GDP    Target  \n",
       "0               10.8             1.4  1.74   Dropout  \n",
       "1               13.9            -0.3  0.79  Graduate  \n",
       "2               10.8             1.4  1.74   Dropout  \n",
       "3                9.4            -0.8 -3.12  Graduate  \n",
       "4               13.9            -0.3  0.79  Graduate  \n",
       "5               16.2             0.3 -0.92  Graduate  \n",
       "6               15.5             2.8 -4.06  Graduate  \n",
       "7               15.5             2.8 -4.06   Dropout  \n",
       "8               16.2             0.3 -0.92  Graduate  \n",
       "9                8.9             1.4  3.51   Dropout  "
      ]
     },
     "execution_count": 35,
     "metadata": {},
     "output_type": "execute_result"
    }
   ],
   "source": [
    "#Visualización rápida para el reconocimiento de los datos utilizando la función head\n",
    "df_new = df[[\"Course\", \"Daytime/evening attendance\\t\", \"Previous qualification (grade)\", \"Mother's qualification\", \"Father's qualification\", \"Admission grade\", \"Displaced\", \"Tuition fees up to date\", \"Scholarship holder\", \"Curricular units 1st sem (evaluations)\", \"Curricular units 1st sem (grade)\", \"Curricular units 2nd sem (evaluations)\", \"Curricular units 2nd sem (grade)\", \"Unemployment rate\", \"Inflation rate\", \"GDP\", \"Target\"]]\n",
    "df_new.head(10)"
   ]
  },
  {
   "cell_type": "code",
   "execution_count": 36,
   "id": "12b77e5c",
   "metadata": {},
   "outputs": [
    {
     "name": "stderr",
     "output_type": "stream",
     "text": [
      "C:\\Users\\jeison.orjuela\\AppData\\Local\\Temp\\ipykernel_17836\\1398112970.py:3: SettingWithCopyWarning: \n",
      "A value is trying to be set on a copy of a slice from a DataFrame.\n",
      "Try using .loc[row_indexer,col_indexer] = value instead\n",
      "\n",
      "See the caveats in the documentation: https://pandas.pydata.org/pandas-docs/stable/user_guide/indexing.html#returning-a-view-versus-a-copy\n",
      "  df_new[variables_categoricas] = df_new[variables_categoricas].astype('category')\n"
     ]
    }
   ],
   "source": [
    "#Transformar variables categóricas\n",
    "variables_categoricas = [\"Course\", \"Daytime/evening attendance\\t\", \"Mother's qualification\", \"Father's qualification\", \"Displaced\", \"Tuition fees up to date\", \"Scholarship holder\", \"Target\"]\n",
    "df_new[variables_categoricas] = df_new[variables_categoricas].astype('category')"
   ]
  },
  {
   "cell_type": "markdown",
   "id": "b92f7db9",
   "metadata": {},
   "source": [
    "## 3.1 Filtro adicional de variables continuas"
   ]
  },
  {
   "cell_type": "code",
   "execution_count": 37,
   "id": "61d475e6",
   "metadata": {},
   "outputs": [
    {
     "ename": "NameError",
     "evalue": "name 'plt' is not defined",
     "output_type": "error",
     "traceback": [
      "\u001b[1;31m---------------------------------------------------------------------------\u001b[0m",
      "\u001b[1;31mNameError\u001b[0m                                 Traceback (most recent call last)",
      "\u001b[1;32mc:\\Users\\jeison.orjuela\\Documents\\Repo Git\\Proyecto-EDA\\Exploracion Datos Proyecto.ipynb Cell 15\u001b[0m line \u001b[0;36m4\n\u001b[0;32m      <a href='vscode-notebook-cell:/c%3A/Users/jeison.orjuela/Documents/Repo%20Git/Proyecto-EDA/Exploracion%20Datos%20Proyecto.ipynb#X20sZmlsZQ%3D%3D?line=0'>1</a>\u001b[0m df_continuas \u001b[39m=\u001b[39m df[[\u001b[39m\"\u001b[39m\u001b[39mPrevious qualification (grade)\u001b[39m\u001b[39m\"\u001b[39m, \u001b[39m\"\u001b[39m\u001b[39mAdmission grade\u001b[39m\u001b[39m\"\u001b[39m, \u001b[39m\"\u001b[39m\u001b[39mCurricular units 1st sem (evaluations)\u001b[39m\u001b[39m\"\u001b[39m, \u001b[39m\"\u001b[39m\u001b[39mCurricular units 1st sem (grade)\u001b[39m\u001b[39m\"\u001b[39m, \u001b[39m\"\u001b[39m\u001b[39mCurricular units 2nd sem (evaluations)\u001b[39m\u001b[39m\"\u001b[39m, \u001b[39m\"\u001b[39m\u001b[39mCurricular units 2nd sem (grade)\u001b[39m\u001b[39m\"\u001b[39m, \u001b[39m\"\u001b[39m\u001b[39mUnemployment rate\u001b[39m\u001b[39m\"\u001b[39m, \u001b[39m\"\u001b[39m\u001b[39mInflation rate\u001b[39m\u001b[39m\"\u001b[39m, \u001b[39m\"\u001b[39m\u001b[39mGDP\u001b[39m\u001b[39m\"\u001b[39m]]\n\u001b[0;32m      <a href='vscode-notebook-cell:/c%3A/Users/jeison.orjuela/Documents/Repo%20Git/Proyecto-EDA/Exploracion%20Datos%20Proyecto.ipynb#X20sZmlsZQ%3D%3D?line=1'>2</a>\u001b[0m correlation_matrix \u001b[39m=\u001b[39m df_continuas\u001b[39m.\u001b[39mcorr()\n\u001b[1;32m----> <a href='vscode-notebook-cell:/c%3A/Users/jeison.orjuela/Documents/Repo%20Git/Proyecto-EDA/Exploracion%20Datos%20Proyecto.ipynb#X20sZmlsZQ%3D%3D?line=3'>4</a>\u001b[0m plt\u001b[39m.\u001b[39mfigure(figsize\u001b[39m=\u001b[39m(\u001b[39m10\u001b[39m,\u001b[39m8\u001b[39m))\n\u001b[0;32m      <a href='vscode-notebook-cell:/c%3A/Users/jeison.orjuela/Documents/Repo%20Git/Proyecto-EDA/Exploracion%20Datos%20Proyecto.ipynb#X20sZmlsZQ%3D%3D?line=4'>5</a>\u001b[0m sns\u001b[39m.\u001b[39mheatmap(correlation_matrix, annot\u001b[39m=\u001b[39m\u001b[39mTrue\u001b[39;00m, cmap\u001b[39m=\u001b[39m\u001b[39m'\u001b[39m\u001b[39mcoolwarm\u001b[39m\u001b[39m'\u001b[39m, vmin\u001b[39m=\u001b[39m\u001b[39m-\u001b[39m\u001b[39m1\u001b[39m, vmax\u001b[39m=\u001b[39m\u001b[39m1\u001b[39m)\n\u001b[0;32m      <a href='vscode-notebook-cell:/c%3A/Users/jeison.orjuela/Documents/Repo%20Git/Proyecto-EDA/Exploracion%20Datos%20Proyecto.ipynb#X20sZmlsZQ%3D%3D?line=5'>6</a>\u001b[0m plt\u001b[39m.\u001b[39mshow()\n",
      "\u001b[1;31mNameError\u001b[0m: name 'plt' is not defined"
     ]
    }
   ],
   "source": [
    "df_continuas = df[[\"Previous qualification (grade)\", \"Admission grade\", \"Curricular units 1st sem (evaluations)\", \"Curricular units 1st sem (grade)\", \"Curricular units 2nd sem (evaluations)\", \"Curricular units 2nd sem (grade)\", \"Unemployment rate\", \"Inflation rate\", \"GDP\"]]\n",
    "correlation_matrix = df_continuas.corr()\n",
    "\n",
    "plt.figure(figsize=(10,8))\n",
    "sns.heatmap(correlation_matrix, annot=True, cmap='coolwarm', vmin=-1, vmax=1)\n",
    "plt.show()"
   ]
  },
  {
   "cell_type": "markdown",
   "id": "171d8876",
   "metadata": {},
   "source": [
    "Como se puede observar en la figura anterior, exiten variables dentro del modelo actual que están bastante correlacionadas pues su valor de correlación está por encima de 0.5. Por lo tanto, debido a esta alta relación y simulitud que existe entre ellas se procederá a eliminar una de las variables dentro del par correlacionado. \n",
    "\n",
    "Entonces, se identificó una correlación de **0.58** entre las variables _Previous qualification (grade)_ y _Admission grade_, una correlación de **0.78** entre las variables _Curricular units 1st sem (evaluations)_ y _Curricular units 2nd sem (evaluations)_, por último, una correlación de **0.84** entre las variables _Curricular units 1st sem (grade)_ y _Curricular units 2nd sem (grade)_.\n",
    "\n",
    "Una vez identificadas las variables con alta correlación se procede a retirar una de ellas dentro del par de variables. Según lo anterior, se dio prioridad a las variables que pueden brindar información de forma temprana según las necesidades del cliente que, en este caso, es la universidad. En este orden de ideas, se decidió dejar dentro de modelo las variables  _Previous qualification (grade)_,  _Curricular units 1st sem (evaluations)_ y _Curricular units 1st sem (grade)_ y sacar del modelo las variables _Admission grade_, Curricular units 2nd sem (evaluations)_ y _Curricular units 2nd sem (grade)_. Con estas variables dentro del modelo se pretende tomar información desde una fase temprana del estudiantes pues al obtener la información del primer semestre se podrá inferir de una vez sin necesidad de que el estudiante complete el segundo segundo semestre ya que ambas variables están altamente correlacionadas.\n",
    "\n"
   ]
  },
  {
   "cell_type": "code",
   "execution_count": null,
   "id": "bc113b6f",
   "metadata": {
    "scrolled": true
   },
   "outputs": [
    {
     "data": {
      "text/html": [
       "<div>\n",
       "<style scoped>\n",
       "    .dataframe tbody tr th:only-of-type {\n",
       "        vertical-align: middle;\n",
       "    }\n",
       "\n",
       "    .dataframe tbody tr th {\n",
       "        vertical-align: top;\n",
       "    }\n",
       "\n",
       "    .dataframe thead th {\n",
       "        text-align: right;\n",
       "    }\n",
       "</style>\n",
       "<table border=\"1\" class=\"dataframe\">\n",
       "  <thead>\n",
       "    <tr style=\"text-align: right;\">\n",
       "      <th>Mother's qualification</th>\n",
       "      <th>1</th>\n",
       "      <th>2</th>\n",
       "      <th>3</th>\n",
       "      <th>4</th>\n",
       "      <th>5</th>\n",
       "      <th>6</th>\n",
       "      <th>9</th>\n",
       "      <th>10</th>\n",
       "      <th>11</th>\n",
       "      <th>12</th>\n",
       "      <th>...</th>\n",
       "      <th>35</th>\n",
       "      <th>36</th>\n",
       "      <th>37</th>\n",
       "      <th>38</th>\n",
       "      <th>39</th>\n",
       "      <th>40</th>\n",
       "      <th>41</th>\n",
       "      <th>42</th>\n",
       "      <th>43</th>\n",
       "      <th>44</th>\n",
       "    </tr>\n",
       "    <tr>\n",
       "      <th>Target</th>\n",
       "      <th></th>\n",
       "      <th></th>\n",
       "      <th></th>\n",
       "      <th></th>\n",
       "      <th></th>\n",
       "      <th></th>\n",
       "      <th></th>\n",
       "      <th></th>\n",
       "      <th></th>\n",
       "      <th></th>\n",
       "      <th></th>\n",
       "      <th></th>\n",
       "      <th></th>\n",
       "      <th></th>\n",
       "      <th></th>\n",
       "      <th></th>\n",
       "      <th></th>\n",
       "      <th></th>\n",
       "      <th></th>\n",
       "      <th></th>\n",
       "      <th></th>\n",
       "    </tr>\n",
       "  </thead>\n",
       "  <tbody>\n",
       "    <tr>\n",
       "      <th>Dropout</th>\n",
       "      <td>28.063611</td>\n",
       "      <td>24.096386</td>\n",
       "      <td>31.735160</td>\n",
       "      <td>16.326531</td>\n",
       "      <td>38.095238</td>\n",
       "      <td>75.0</td>\n",
       "      <td>62.5</td>\n",
       "      <td>66.666667</td>\n",
       "      <td>66.666667</td>\n",
       "      <td>52.380952</td>\n",
       "      <td>...</td>\n",
       "      <td>66.666667</td>\n",
       "      <td>66.666667</td>\n",
       "      <td>37.958375</td>\n",
       "      <td>24.911032</td>\n",
       "      <td>50.0</td>\n",
       "      <td>33.333333</td>\n",
       "      <td>33.333333</td>\n",
       "      <td>50.0</td>\n",
       "      <td>25.0</td>\n",
       "      <td>100.0</td>\n",
       "    </tr>\n",
       "    <tr>\n",
       "      <th>Enrolled</th>\n",
       "      <td>19.083255</td>\n",
       "      <td>27.710843</td>\n",
       "      <td>23.059361</td>\n",
       "      <td>30.612245</td>\n",
       "      <td>23.809524</td>\n",
       "      <td>0.0</td>\n",
       "      <td>0.0</td>\n",
       "      <td>0.000000</td>\n",
       "      <td>0.000000</td>\n",
       "      <td>7.142857</td>\n",
       "      <td>...</td>\n",
       "      <td>0.000000</td>\n",
       "      <td>0.000000</td>\n",
       "      <td>16.749257</td>\n",
       "      <td>16.192171</td>\n",
       "      <td>25.0</td>\n",
       "      <td>11.111111</td>\n",
       "      <td>0.000000</td>\n",
       "      <td>0.0</td>\n",
       "      <td>25.0</td>\n",
       "      <td>0.0</td>\n",
       "    </tr>\n",
       "    <tr>\n",
       "      <th>Graduate</th>\n",
       "      <td>52.853134</td>\n",
       "      <td>48.192771</td>\n",
       "      <td>45.205479</td>\n",
       "      <td>53.061224</td>\n",
       "      <td>38.095238</td>\n",
       "      <td>25.0</td>\n",
       "      <td>37.5</td>\n",
       "      <td>33.333333</td>\n",
       "      <td>33.333333</td>\n",
       "      <td>40.476190</td>\n",
       "      <td>...</td>\n",
       "      <td>33.333333</td>\n",
       "      <td>33.333333</td>\n",
       "      <td>45.292369</td>\n",
       "      <td>58.896797</td>\n",
       "      <td>25.0</td>\n",
       "      <td>55.555556</td>\n",
       "      <td>66.666667</td>\n",
       "      <td>50.0</td>\n",
       "      <td>50.0</td>\n",
       "      <td>0.0</td>\n",
       "    </tr>\n",
       "  </tbody>\n",
       "</table>\n",
       "<p>3 rows × 29 columns</p>\n",
       "</div>"
      ],
      "text/plain": [
       "Mother's qualification          1          2          3          4          5  \\\n",
       "Target                                                                          \n",
       "Dropout                 28.063611  24.096386  31.735160  16.326531  38.095238   \n",
       "Enrolled                19.083255  27.710843  23.059361  30.612245  23.809524   \n",
       "Graduate                52.853134  48.192771  45.205479  53.061224  38.095238   \n",
       "\n",
       "Mother's qualification     6     9         10         11         12  ...  \\\n",
       "Target                                                               ...   \n",
       "Dropout                 75.0  62.5  66.666667  66.666667  52.380952  ...   \n",
       "Enrolled                 0.0   0.0   0.000000   0.000000   7.142857  ...   \n",
       "Graduate                25.0  37.5  33.333333  33.333333  40.476190  ...   \n",
       "\n",
       "Mother's qualification         35         36         37         38    39  \\\n",
       "Target                                                                     \n",
       "Dropout                 66.666667  66.666667  37.958375  24.911032  50.0   \n",
       "Enrolled                 0.000000   0.000000  16.749257  16.192171  25.0   \n",
       "Graduate                33.333333  33.333333  45.292369  58.896797  25.0   \n",
       "\n",
       "Mother's qualification         40         41    42    43     44  \n",
       "Target                                                           \n",
       "Dropout                 33.333333  33.333333  50.0  25.0  100.0  \n",
       "Enrolled                11.111111   0.000000   0.0  25.0    0.0  \n",
       "Graduate                55.555556  66.666667  50.0  50.0    0.0  \n",
       "\n",
       "[3 rows x 29 columns]"
      ]
     },
     "execution_count": 210,
     "metadata": {},
     "output_type": "execute_result"
    }
   ],
   "source": [
    "# Supongamos que tu DataFrame se llama 'df' y las columnas son 'variable1' y 'variable2'\n",
    "contingency_table = pd.crosstab(df_final['Target'], df_final['Mother\\'s qualification'])\n",
    "contingency_table.iloc[0]\n",
    "\n",
    "# Normaliza por columnas para obtener porcentajes.\n",
    "normalized_by_column = pd.crosstab(df_final['Target'], df_final['Mother\\'s qualification'], normalize='columns') * 100\n",
    "normalized_by_column\n"
   ]
  },
  {
   "cell_type": "code",
   "execution_count": null,
   "id": "8769ef93",
   "metadata": {
    "scrolled": false
   },
   "outputs": [
    {
     "data": {
      "image/png": "[encoded data removed]",
      "text/plain": [
       "<Figure size 1440x936 with 2 Axes>"
      ]
     },
     "metadata": {
      "needs_background": "light"
     },
     "output_type": "display_data"
    }
   ],
   "source": [
    "plt.figure(figsize=(20, 13))\n",
    "sns.heatmap(normalized_by_column, annot=True, cmap=\"YlGnBu\", fmt='g')\n",
    "plt.title('Mapa de Calor entre variable1 y variable2')\n",
    "plt.show()"
   ]
  },
  {
   "cell_type": "code",
   "execution_count": null,
   "id": "eab29307",
   "metadata": {},
   "outputs": [
    {
     "name": "stdout",
     "output_type": "stream",
     "text": [
      "0.15694880104029407\n"
     ]
    }
   ],
   "source": [
    "import pandas as pd\n",
    "from scipy.stats import chi2_contingency\n",
    "import numpy as np\n",
    "\n",
    "# Suponiendo que tu DataFrame se llama 'df' y las columnas son 'variable1' y 'variable2'\n",
    "contingency_table = pd.crosstab(df_final['Target'], df_final['Mother\\'s qualification'])\n",
    "\n",
    "# Calcula el estadístico chi-cuadrado\n",
    "chi2, p, _, _ = chi2_contingency(contingency_table)\n",
    "\n",
    "# Calcula la V de Cramér\n",
    "n = contingency_table.sum().sum()\n",
    "min_dim = min(contingency_table.shape)-1  # -1 para restar los encabezados/etiquetas de fila o columna\n",
    "cramers_v = np.sqrt(chi2 / (n * min_dim))\n",
    "\n",
    "print(cramers_v)\n"
   ]
  },
  {
   "cell_type": "code",
   "execution_count": null,
   "id": "052908d9",
   "metadata": {},
   "outputs": [
    {
     "data": {
      "text/html": [
       "<div>\n",
       "<style scoped>\n",
       "    .dataframe tbody tr th:only-of-type {\n",
       "        vertical-align: middle;\n",
       "    }\n",
       "\n",
       "    .dataframe tbody tr th {\n",
       "        vertical-align: top;\n",
       "    }\n",
       "\n",
       "    .dataframe thead th {\n",
       "        text-align: right;\n",
       "    }\n",
       "</style>\n",
       "<table border=\"1\" class=\"dataframe\">\n",
       "  <thead>\n",
       "    <tr style=\"text-align: right;\">\n",
       "      <th>Father's qualification</th>\n",
       "      <th>1</th>\n",
       "      <th>2</th>\n",
       "      <th>3</th>\n",
       "      <th>4</th>\n",
       "      <th>5</th>\n",
       "      <th>6</th>\n",
       "      <th>9</th>\n",
       "      <th>10</th>\n",
       "      <th>11</th>\n",
       "      <th>12</th>\n",
       "      <th>...</th>\n",
       "      <th>35</th>\n",
       "      <th>36</th>\n",
       "      <th>37</th>\n",
       "      <th>38</th>\n",
       "      <th>39</th>\n",
       "      <th>40</th>\n",
       "      <th>41</th>\n",
       "      <th>42</th>\n",
       "      <th>43</th>\n",
       "      <th>44</th>\n",
       "    </tr>\n",
       "    <tr>\n",
       "      <th>Target</th>\n",
       "      <th></th>\n",
       "      <th></th>\n",
       "      <th></th>\n",
       "      <th></th>\n",
       "      <th></th>\n",
       "      <th></th>\n",
       "      <th></th>\n",
       "      <th></th>\n",
       "      <th></th>\n",
       "      <th></th>\n",
       "      <th></th>\n",
       "      <th></th>\n",
       "      <th></th>\n",
       "      <th></th>\n",
       "      <th></th>\n",
       "      <th></th>\n",
       "      <th></th>\n",
       "      <th></th>\n",
       "      <th></th>\n",
       "      <th></th>\n",
       "      <th></th>\n",
       "    </tr>\n",
       "  </thead>\n",
       "  <tbody>\n",
       "    <tr>\n",
       "      <th>Dropout</th>\n",
       "      <td>31.084071</td>\n",
       "      <td>32.352941</td>\n",
       "      <td>31.914894</td>\n",
       "      <td>35.897436</td>\n",
       "      <td>55.555556</td>\n",
       "      <td>100.0</td>\n",
       "      <td>20.0</td>\n",
       "      <td>100.0</td>\n",
       "      <td>40.0</td>\n",
       "      <td>36.842105</td>\n",
       "      <td>...</td>\n",
       "      <td>100.0</td>\n",
       "      <td>62.5</td>\n",
       "      <td>35.732010</td>\n",
       "      <td>23.789174</td>\n",
       "      <td>40.0</td>\n",
       "      <td>60.0</td>\n",
       "      <td>50.0</td>\n",
       "      <td>0.0</td>\n",
       "      <td>0.0</td>\n",
       "      <td>100.0</td>\n",
       "    </tr>\n",
       "    <tr>\n",
       "      <th>Enrolled</th>\n",
       "      <td>19.026549</td>\n",
       "      <td>36.764706</td>\n",
       "      <td>21.985816</td>\n",
       "      <td>17.948718</td>\n",
       "      <td>16.666667</td>\n",
       "      <td>0.0</td>\n",
       "      <td>0.0</td>\n",
       "      <td>0.0</td>\n",
       "      <td>0.0</td>\n",
       "      <td>10.526316</td>\n",
       "      <td>...</td>\n",
       "      <td>0.0</td>\n",
       "      <td>0.0</td>\n",
       "      <td>16.459884</td>\n",
       "      <td>18.091168</td>\n",
       "      <td>35.0</td>\n",
       "      <td>0.0</td>\n",
       "      <td>50.0</td>\n",
       "      <td>0.0</td>\n",
       "      <td>0.0</td>\n",
       "      <td>0.0</td>\n",
       "    </tr>\n",
       "    <tr>\n",
       "      <th>Graduate</th>\n",
       "      <td>49.889381</td>\n",
       "      <td>30.882353</td>\n",
       "      <td>46.099291</td>\n",
       "      <td>46.153846</td>\n",
       "      <td>27.777778</td>\n",
       "      <td>0.0</td>\n",
       "      <td>80.0</td>\n",
       "      <td>0.0</td>\n",
       "      <td>60.0</td>\n",
       "      <td>52.631579</td>\n",
       "      <td>...</td>\n",
       "      <td>0.0</td>\n",
       "      <td>37.5</td>\n",
       "      <td>47.808106</td>\n",
       "      <td>58.119658</td>\n",
       "      <td>25.0</td>\n",
       "      <td>40.0</td>\n",
       "      <td>0.0</td>\n",
       "      <td>100.0</td>\n",
       "      <td>100.0</td>\n",
       "      <td>0.0</td>\n",
       "    </tr>\n",
       "  </tbody>\n",
       "</table>\n",
       "<p>3 rows × 34 columns</p>\n",
       "</div>"
      ],
      "text/plain": [
       "Father's qualification          1          2          3          4          5  \\\n",
       "Target                                                                          \n",
       "Dropout                 31.084071  32.352941  31.914894  35.897436  55.555556   \n",
       "Enrolled                19.026549  36.764706  21.985816  17.948718  16.666667   \n",
       "Graduate                49.889381  30.882353  46.099291  46.153846  27.777778   \n",
       "\n",
       "Father's qualification      6     9     10    11         12  ...     35    36  \\\n",
       "Target                                                       ...                \n",
       "Dropout                 100.0  20.0  100.0  40.0  36.842105  ...  100.0  62.5   \n",
       "Enrolled                  0.0   0.0    0.0   0.0  10.526316  ...    0.0   0.0   \n",
       "Graduate                  0.0  80.0    0.0  60.0  52.631579  ...    0.0  37.5   \n",
       "\n",
       "Father's qualification         37         38    39    40    41     42     43  \\\n",
       "Target                                                                         \n",
       "Dropout                 35.732010  23.789174  40.0  60.0  50.0    0.0    0.0   \n",
       "Enrolled                16.459884  18.091168  35.0   0.0  50.0    0.0    0.0   \n",
       "Graduate                47.808106  58.119658  25.0  40.0   0.0  100.0  100.0   \n",
       "\n",
       "Father's qualification     44  \n",
       "Target                         \n",
       "Dropout                 100.0  \n",
       "Enrolled                  0.0  \n",
       "Graduate                  0.0  \n",
       "\n",
       "[3 rows x 34 columns]"
      ]
     },
     "execution_count": 214,
     "metadata": {},
     "output_type": "execute_result"
    }
   ],
   "source": [
    "# Supongamos que tu DataFrame se llama 'df' y las columnas son 'variable1' y 'variable2'\n",
    "contingency_table = pd.crosstab(df_final['Target'], df_final['Mother\\'s qualification'])\n",
    "contingency_table.iloc[0]\n",
    "\n",
    "# Normaliza por columnas para obtener porcentajes.\n",
    "normalized_by_column = pd.crosstab(df_final['Target'], df_final['Father\\'s qualification'], normalize='columns') * 100\n",
    "normalized_by_column"
   ]
  },
  {
   "cell_type": "code",
   "execution_count": null,
   "id": "a2a1cf9a",
   "metadata": {},
   "outputs": [
    {
     "data": {
      "image/png": "[encoded data removed]",
      "text/plain": [
       "<Figure size 1440x936 with 2 Axes>"
      ]
     },
     "metadata": {
      "needs_background": "light"
     },
     "output_type": "display_data"
    }
   ],
   "source": [
    "plt.figure(figsize=(20, 13))\n",
    "sns.heatmap(normalized_by_column, annot=True, cmap=\"YlGnBu\", fmt='g')\n",
    "plt.title('Mapa de Calor entre variable1 y variable2')\n",
    "plt.show()"
   ]
  },
  {
   "cell_type": "code",
   "execution_count": null,
   "id": "fa26fe36",
   "metadata": {},
   "outputs": [
    {
     "name": "stdout",
     "output_type": "stream",
     "text": [
      "0.1594664984039091\n"
     ]
    }
   ],
   "source": [
    "import pandas as pd\n",
    "from scipy.stats import chi2_contingency\n",
    "import numpy as np\n",
    "\n",
    "# Suponiendo que tu DataFrame se llama 'df' y las columnas son 'variable1' y 'variable2'\n",
    "contingency_table = pd.crosstab(df_final['Target'], df_final['Father\\'s qualification'])\n",
    "\n",
    "# Calcula el estadístico chi-cuadrado\n",
    "chi2, p, _, _ = chi2_contingency(contingency_table)\n",
    "\n",
    "# Calcula la V de Cramér\n",
    "n = contingency_table.sum().sum()\n",
    "min_dim = min(contingency_table.shape)-1  # -1 para restar los encabezados/etiquetas de fila o columna\n",
    "cramers_v = np.sqrt(chi2 / (n * min_dim))\n",
    "\n",
    "print(cramers_v)"
   ]
  },
  {
   "cell_type": "markdown",
   "id": "0bafd35e",
   "metadata": {},
   "source": [
    "## 3.2 Variables finales\n",
    "\n",
    "\n",
    "1. Course\n",
    "2. Daytime/evening attendance\n",
    "3. Previous qualification (grade)\n",
    "4. Displaced\n",
    "5. Tuition fees up to date\n",
    "6. Scholarship holder\n",
    "7. Curricular units 1st sem (evaluations)\n",
    "8. Curricular units 1st sem (grade)\n",
    "9. Unemployment rate\n",
    "10. Inflation rate\n",
    "11. GDP\n",
    "12. Target\n"
   ]
  },
  {
   "cell_type": "markdown",
   "id": "e9d89cbd",
   "metadata": {},
   "source": [
    "## 3.3 Modelo Final"
   ]
  },
  {
   "cell_type": "code",
   "execution_count": 39,
   "id": "42c93a15",
   "metadata": {},
   "outputs": [
    {
     "data": {
      "text/html": [
       "<div>\n",
       "<style scoped>\n",
       "    .dataframe tbody tr th:only-of-type {\n",
       "        vertical-align: middle;\n",
       "    }\n",
       "\n",
       "    .dataframe tbody tr th {\n",
       "        vertical-align: top;\n",
       "    }\n",
       "\n",
       "    .dataframe thead th {\n",
       "        text-align: right;\n",
       "    }\n",
       "</style>\n",
       "<table border=\"1\" class=\"dataframe\">\n",
       "  <thead>\n",
       "    <tr style=\"text-align: right;\">\n",
       "      <th></th>\n",
       "      <th>Course</th>\n",
       "      <th>Daytime/evening attendance\\t</th>\n",
       "      <th>Previous qualification (grade)</th>\n",
       "      <th>Mother's qualification</th>\n",
       "      <th>Father's qualification</th>\n",
       "      <th>Displaced</th>\n",
       "      <th>Tuition fees up to date</th>\n",
       "      <th>Scholarship holder</th>\n",
       "      <th>Curricular units 1st sem (evaluations)</th>\n",
       "      <th>Curricular units 1st sem (grade)</th>\n",
       "      <th>Unemployment rate</th>\n",
       "      <th>Inflation rate</th>\n",
       "      <th>GDP</th>\n",
       "      <th>Target</th>\n",
       "    </tr>\n",
       "  </thead>\n",
       "  <tbody>\n",
       "    <tr>\n",
       "      <th>0</th>\n",
       "      <td>171</td>\n",
       "      <td>1</td>\n",
       "      <td>122.0</td>\n",
       "      <td>19</td>\n",
       "      <td>12</td>\n",
       "      <td>1</td>\n",
       "      <td>1</td>\n",
       "      <td>0</td>\n",
       "      <td>0</td>\n",
       "      <td>0.000000</td>\n",
       "      <td>10.8</td>\n",
       "      <td>1.4</td>\n",
       "      <td>1.74</td>\n",
       "      <td>Dropout</td>\n",
       "    </tr>\n",
       "    <tr>\n",
       "      <th>1</th>\n",
       "      <td>9254</td>\n",
       "      <td>1</td>\n",
       "      <td>160.0</td>\n",
       "      <td>1</td>\n",
       "      <td>3</td>\n",
       "      <td>1</td>\n",
       "      <td>0</td>\n",
       "      <td>0</td>\n",
       "      <td>6</td>\n",
       "      <td>14.000000</td>\n",
       "      <td>13.9</td>\n",
       "      <td>-0.3</td>\n",
       "      <td>0.79</td>\n",
       "      <td>Graduate</td>\n",
       "    </tr>\n",
       "    <tr>\n",
       "      <th>2</th>\n",
       "      <td>9070</td>\n",
       "      <td>1</td>\n",
       "      <td>122.0</td>\n",
       "      <td>37</td>\n",
       "      <td>37</td>\n",
       "      <td>1</td>\n",
       "      <td>0</td>\n",
       "      <td>0</td>\n",
       "      <td>0</td>\n",
       "      <td>0.000000</td>\n",
       "      <td>10.8</td>\n",
       "      <td>1.4</td>\n",
       "      <td>1.74</td>\n",
       "      <td>Dropout</td>\n",
       "    </tr>\n",
       "    <tr>\n",
       "      <th>3</th>\n",
       "      <td>9773</td>\n",
       "      <td>1</td>\n",
       "      <td>122.0</td>\n",
       "      <td>38</td>\n",
       "      <td>37</td>\n",
       "      <td>1</td>\n",
       "      <td>1</td>\n",
       "      <td>0</td>\n",
       "      <td>8</td>\n",
       "      <td>13.428571</td>\n",
       "      <td>9.4</td>\n",
       "      <td>-0.8</td>\n",
       "      <td>-3.12</td>\n",
       "      <td>Graduate</td>\n",
       "    </tr>\n",
       "    <tr>\n",
       "      <th>4</th>\n",
       "      <td>8014</td>\n",
       "      <td>0</td>\n",
       "      <td>100.0</td>\n",
       "      <td>37</td>\n",
       "      <td>38</td>\n",
       "      <td>0</td>\n",
       "      <td>1</td>\n",
       "      <td>0</td>\n",
       "      <td>9</td>\n",
       "      <td>12.333333</td>\n",
       "      <td>13.9</td>\n",
       "      <td>-0.3</td>\n",
       "      <td>0.79</td>\n",
       "      <td>Graduate</td>\n",
       "    </tr>\n",
       "    <tr>\n",
       "      <th>5</th>\n",
       "      <td>9991</td>\n",
       "      <td>0</td>\n",
       "      <td>133.1</td>\n",
       "      <td>37</td>\n",
       "      <td>37</td>\n",
       "      <td>0</td>\n",
       "      <td>1</td>\n",
       "      <td>0</td>\n",
       "      <td>10</td>\n",
       "      <td>11.857143</td>\n",
       "      <td>16.2</td>\n",
       "      <td>0.3</td>\n",
       "      <td>-0.92</td>\n",
       "      <td>Graduate</td>\n",
       "    </tr>\n",
       "    <tr>\n",
       "      <th>6</th>\n",
       "      <td>9500</td>\n",
       "      <td>1</td>\n",
       "      <td>142.0</td>\n",
       "      <td>19</td>\n",
       "      <td>38</td>\n",
       "      <td>1</td>\n",
       "      <td>1</td>\n",
       "      <td>1</td>\n",
       "      <td>9</td>\n",
       "      <td>13.300000</td>\n",
       "      <td>15.5</td>\n",
       "      <td>2.8</td>\n",
       "      <td>-4.06</td>\n",
       "      <td>Graduate</td>\n",
       "    </tr>\n",
       "    <tr>\n",
       "      <th>7</th>\n",
       "      <td>9254</td>\n",
       "      <td>1</td>\n",
       "      <td>119.0</td>\n",
       "      <td>37</td>\n",
       "      <td>37</td>\n",
       "      <td>1</td>\n",
       "      <td>0</td>\n",
       "      <td>0</td>\n",
       "      <td>5</td>\n",
       "      <td>0.000000</td>\n",
       "      <td>15.5</td>\n",
       "      <td>2.8</td>\n",
       "      <td>-4.06</td>\n",
       "      <td>Dropout</td>\n",
       "    </tr>\n",
       "    <tr>\n",
       "      <th>8</th>\n",
       "      <td>9238</td>\n",
       "      <td>1</td>\n",
       "      <td>137.0</td>\n",
       "      <td>1</td>\n",
       "      <td>1</td>\n",
       "      <td>0</td>\n",
       "      <td>1</td>\n",
       "      <td>1</td>\n",
       "      <td>8</td>\n",
       "      <td>13.875000</td>\n",
       "      <td>16.2</td>\n",
       "      <td>0.3</td>\n",
       "      <td>-0.92</td>\n",
       "      <td>Graduate</td>\n",
       "    </tr>\n",
       "    <tr>\n",
       "      <th>9</th>\n",
       "      <td>9238</td>\n",
       "      <td>1</td>\n",
       "      <td>138.0</td>\n",
       "      <td>1</td>\n",
       "      <td>19</td>\n",
       "      <td>1</td>\n",
       "      <td>0</td>\n",
       "      <td>0</td>\n",
       "      <td>9</td>\n",
       "      <td>11.400000</td>\n",
       "      <td>8.9</td>\n",
       "      <td>1.4</td>\n",
       "      <td>3.51</td>\n",
       "      <td>Dropout</td>\n",
       "    </tr>\n",
       "  </tbody>\n",
       "</table>\n",
       "</div>"
      ],
      "text/plain": [
       "  Course Daytime/evening attendance\\t  Previous qualification (grade)  \\\n",
       "0    171                            1                           122.0   \n",
       "1   9254                            1                           160.0   \n",
       "2   9070                            1                           122.0   \n",
       "3   9773                            1                           122.0   \n",
       "4   8014                            0                           100.0   \n",
       "5   9991                            0                           133.1   \n",
       "6   9500                            1                           142.0   \n",
       "7   9254                            1                           119.0   \n",
       "8   9238                            1                           137.0   \n",
       "9   9238                            1                           138.0   \n",
       "\n",
       "  Mother's qualification Father's qualification Displaced  \\\n",
       "0                     19                     12         1   \n",
       "1                      1                      3         1   \n",
       "2                     37                     37         1   \n",
       "3                     38                     37         1   \n",
       "4                     37                     38         0   \n",
       "5                     37                     37         0   \n",
       "6                     19                     38         1   \n",
       "7                     37                     37         1   \n",
       "8                      1                      1         0   \n",
       "9                      1                     19         1   \n",
       "\n",
       "  Tuition fees up to date Scholarship holder  \\\n",
       "0                       1                  0   \n",
       "1                       0                  0   \n",
       "2                       0                  0   \n",
       "3                       1                  0   \n",
       "4                       1                  0   \n",
       "5                       1                  0   \n",
       "6                       1                  1   \n",
       "7                       0                  0   \n",
       "8                       1                  1   \n",
       "9                       0                  0   \n",
       "\n",
       "   Curricular units 1st sem (evaluations)  Curricular units 1st sem (grade)  \\\n",
       "0                                       0                          0.000000   \n",
       "1                                       6                         14.000000   \n",
       "2                                       0                          0.000000   \n",
       "3                                       8                         13.428571   \n",
       "4                                       9                         12.333333   \n",
       "5                                      10                         11.857143   \n",
       "6                                       9                         13.300000   \n",
       "7                                       5                          0.000000   \n",
       "8                                       8                         13.875000   \n",
       "9                                       9                         11.400000   \n",
       "\n",
       "   Unemployment rate  Inflation rate   GDP    Target  \n",
       "0               10.8             1.4  1.74   Dropout  \n",
       "1               13.9            -0.3  0.79  Graduate  \n",
       "2               10.8             1.4  1.74   Dropout  \n",
       "3                9.4            -0.8 -3.12  Graduate  \n",
       "4               13.9            -0.3  0.79  Graduate  \n",
       "5               16.2             0.3 -0.92  Graduate  \n",
       "6               15.5             2.8 -4.06  Graduate  \n",
       "7               15.5             2.8 -4.06   Dropout  \n",
       "8               16.2             0.3 -0.92  Graduate  \n",
       "9                8.9             1.4  3.51   Dropout  "
      ]
     },
     "execution_count": 39,
     "metadata": {},
     "output_type": "execute_result"
    }
   ],
   "source": [
    "# Nuevo Modelo\n",
    "df_final = df_new[[\"Course\", \"Daytime/evening attendance\\t\", \"Previous qualification (grade)\", \"Mother's qualification\", \"Father's qualification\", \"Displaced\", \"Tuition fees up to date\", \"Scholarship holder\", \"Curricular units 1st sem (evaluations)\", \"Curricular units 1st sem (grade)\", \"Unemployment rate\", \"Inflation rate\", \"GDP\", \"Target\"]]\n",
    "df_final.head(10)\n"
   ]
  },
  {
   "cell_type": "markdown",
   "id": "a72054c8",
   "metadata": {},
   "source": [
    "# 4. Discretización \n",
    "\n",
    "## 4.1 Variables Continuas"
   ]
  },
  {
   "cell_type": "code",
   "execution_count": null,
   "id": "6945aac0",
   "metadata": {},
   "outputs": [
    {
     "data": {
      "text/html": [
       "<div>\n",
       "<style scoped>\n",
       "    .dataframe tbody tr th:only-of-type {\n",
       "        vertical-align: middle;\n",
       "    }\n",
       "\n",
       "    .dataframe tbody tr th {\n",
       "        vertical-align: top;\n",
       "    }\n",
       "\n",
       "    .dataframe thead th {\n",
       "        text-align: right;\n",
       "    }\n",
       "</style>\n",
       "<table border=\"1\" class=\"dataframe\">\n",
       "  <thead>\n",
       "    <tr style=\"text-align: right;\">\n",
       "      <th></th>\n",
       "      <th>Previous qualification (grade)</th>\n",
       "      <th>Curricular units 1st sem (evaluations)</th>\n",
       "      <th>Curricular units 1st sem (grade)</th>\n",
       "      <th>Unemployment rate</th>\n",
       "      <th>Inflation rate</th>\n",
       "      <th>GDP</th>\n",
       "    </tr>\n",
       "  </thead>\n",
       "  <tbody>\n",
       "    <tr>\n",
       "      <th>count</th>\n",
       "      <td>4424.000000</td>\n",
       "      <td>4424.000000</td>\n",
       "      <td>4424.000000</td>\n",
       "      <td>4424.000000</td>\n",
       "      <td>4424.000000</td>\n",
       "      <td>4424.000000</td>\n",
       "    </tr>\n",
       "    <tr>\n",
       "      <th>mean</th>\n",
       "      <td>132.613314</td>\n",
       "      <td>8.299051</td>\n",
       "      <td>10.640822</td>\n",
       "      <td>11.566139</td>\n",
       "      <td>1.228029</td>\n",
       "      <td>0.001969</td>\n",
       "    </tr>\n",
       "    <tr>\n",
       "      <th>std</th>\n",
       "      <td>13.188332</td>\n",
       "      <td>4.179106</td>\n",
       "      <td>4.843663</td>\n",
       "      <td>2.663850</td>\n",
       "      <td>1.382711</td>\n",
       "      <td>2.269935</td>\n",
       "    </tr>\n",
       "    <tr>\n",
       "      <th>min</th>\n",
       "      <td>95.000000</td>\n",
       "      <td>0.000000</td>\n",
       "      <td>0.000000</td>\n",
       "      <td>7.600000</td>\n",
       "      <td>-0.800000</td>\n",
       "      <td>-4.060000</td>\n",
       "    </tr>\n",
       "    <tr>\n",
       "      <th>25%</th>\n",
       "      <td>125.000000</td>\n",
       "      <td>6.000000</td>\n",
       "      <td>11.000000</td>\n",
       "      <td>9.400000</td>\n",
       "      <td>0.300000</td>\n",
       "      <td>-1.700000</td>\n",
       "    </tr>\n",
       "    <tr>\n",
       "      <th>50%</th>\n",
       "      <td>133.100000</td>\n",
       "      <td>8.000000</td>\n",
       "      <td>12.285714</td>\n",
       "      <td>11.100000</td>\n",
       "      <td>1.400000</td>\n",
       "      <td>0.320000</td>\n",
       "    </tr>\n",
       "    <tr>\n",
       "      <th>75%</th>\n",
       "      <td>140.000000</td>\n",
       "      <td>10.000000</td>\n",
       "      <td>13.400000</td>\n",
       "      <td>13.900000</td>\n",
       "      <td>2.600000</td>\n",
       "      <td>1.790000</td>\n",
       "    </tr>\n",
       "    <tr>\n",
       "      <th>max</th>\n",
       "      <td>190.000000</td>\n",
       "      <td>45.000000</td>\n",
       "      <td>18.875000</td>\n",
       "      <td>16.200000</td>\n",
       "      <td>3.700000</td>\n",
       "      <td>3.510000</td>\n",
       "    </tr>\n",
       "  </tbody>\n",
       "</table>\n",
       "</div>"
      ],
      "text/plain": [
       "       Previous qualification (grade)  Curricular units 1st sem (evaluations)  \\\n",
       "count                     4424.000000                             4424.000000   \n",
       "mean                       132.613314                                8.299051   \n",
       "std                         13.188332                                4.179106   \n",
       "min                         95.000000                                0.000000   \n",
       "25%                        125.000000                                6.000000   \n",
       "50%                        133.100000                                8.000000   \n",
       "75%                        140.000000                               10.000000   \n",
       "max                        190.000000                               45.000000   \n",
       "\n",
       "       Curricular units 1st sem (grade)  Unemployment rate  Inflation rate  \\\n",
       "count                       4424.000000        4424.000000     4424.000000   \n",
       "mean                          10.640822          11.566139        1.228029   \n",
       "std                            4.843663           2.663850        1.382711   \n",
       "min                            0.000000           7.600000       -0.800000   \n",
       "25%                           11.000000           9.400000        0.300000   \n",
       "50%                           12.285714          11.100000        1.400000   \n",
       "75%                           13.400000          13.900000        2.600000   \n",
       "max                           18.875000          16.200000        3.700000   \n",
       "\n",
       "               GDP  \n",
       "count  4424.000000  \n",
       "mean      0.001969  \n",
       "std       2.269935  \n",
       "min      -4.060000  \n",
       "25%      -1.700000  \n",
       "50%       0.320000  \n",
       "75%       1.790000  \n",
       "max       3.510000  "
      ]
     },
     "execution_count": 152,
     "metadata": {},
     "output_type": "execute_result"
    }
   ],
   "source": [
    "#Descripción de variables continuas\n",
    "df_final.describe()"
   ]
  },
  {
   "cell_type": "markdown",
   "id": "1fc9dfe1",
   "metadata": {},
   "source": [
    "### 4.1.1 Curricular units 1st sem (evaluations)"
   ]
  },
  {
   "cell_type": "code",
   "execution_count": null,
   "id": "7dca2ccd",
   "metadata": {},
   "outputs": [
    {
     "data": {
      "image/png": "[encoded data removed]",
      "text/plain": [
       "<Figure size 432x288 with 1 Axes>"
      ]
     },
     "metadata": {
      "needs_background": "light"
     },
     "output_type": "display_data"
    }
   ],
   "source": [
    "# Crear un histograma para columna_A\n",
    "frecuencia, bins, p = plt.hist(df_final[\"Curricular units 1st sem (evaluations)\"], bins = 6, edgecolor='black')  # Ajusta el número en 'bins' según cómo quieras los intervalos\n",
    "plt.title('Histograma de Curricular units 1st (evaluations)')\n",
    "plt.xlabel('Valor')\n",
    "plt.ylabel('Frecuencia')\n",
    "plt.grid(True)\n",
    "plt.show()"
   ]
  },
  {
   "cell_type": "code",
   "execution_count": null,
   "id": "7d90a729",
   "metadata": {},
   "outputs": [
    {
     "data": {
      "text/plain": [
       "array([1.909e+03, 2.240e+03, 2.420e+02, 2.700e+01, 4.000e+00, 2.000e+00])"
      ]
     },
     "execution_count": 111,
     "metadata": {},
     "output_type": "execute_result"
    }
   ],
   "source": [
    "frecuencia"
   ]
  },
  {
   "cell_type": "code",
   "execution_count": null,
   "id": "0686f4e9",
   "metadata": {},
   "outputs": [
    {
     "data": {
      "text/plain": [
       "array([ 0. ,  7.5, 15. , 22.5, 30. , 37.5, 45. ])"
      ]
     },
     "execution_count": 112,
     "metadata": {},
     "output_type": "execute_result"
    }
   ],
   "source": [
    "bins"
   ]
  },
  {
   "cell_type": "markdown",
   "id": "e6221226",
   "metadata": {},
   "source": [
    "Se pueden tomar 6 clases para la variable _Curricular units 1st sem (evaluations)_ y definirlas de la siguiente forma:\n",
    "\n",
    "* (0 , 7.5) -> Muy Bajo (MB)\n",
    "* (7.5 , 15) -> Bajo (B)\n",
    "* (15 , 22.5) -> Intermedio Bajo (IB)\n",
    "* (22.5 , 30) -> Intermadio Alto (IA)\n",
    "* (30 , 37.5) -> Alto (A)\n",
    "* (37.5 , 45) -> Muy Alto (MA)\n",
    "\n",
    "En nuestro curso se realizan minimo 15 talleres y 3 proyectos, con lo cual, son 18 evaluaciones que se realizan dentro del curso. (SE TOMA COMO REFERENCIA)"
   ]
  },
  {
   "cell_type": "code",
   "execution_count": null,
   "id": "19ab3f7c",
   "metadata": {},
   "outputs": [
    {
     "data": {
      "text/plain": [
       "0       MB\n",
       "1       MB\n",
       "2       MB\n",
       "3        B\n",
       "4        B\n",
       "        ..\n",
       "4419    MB\n",
       "4420    MB\n",
       "4421     B\n",
       "4422    MB\n",
       "4423     B\n",
       "Name: Curricular units 1st sem (evaluations) new, Length: 4424, dtype: category\n",
       "Categories (6, object): ['MB' < 'B' < 'IB' < 'IA' < 'A' < 'MA']"
      ]
     },
     "execution_count": 113,
     "metadata": {},
     "output_type": "execute_result"
    }
   ],
   "source": [
    "#Se crea la lista con las clases de la nueva variable discretizada\n",
    "labels = ['MB', 'B', 'IB', 'IA', 'A', 'MA']\n",
    "\n",
    "#Se crea una nueva columna discretizdada dentro del dataframe final \n",
    "df_final['Curricular units 1st sem (evaluations) new'] = pd.cut(df_final['Curricular units 1st sem (evaluations)'], bins = bins, labels = labels, right = True,  include_lowest=True)\n",
    "\n",
    "#Visualización de la nueva columna discretizada\n",
    "df_final['Curricular units 1st sem (evaluations) new']"
   ]
  },
  {
   "cell_type": "markdown",
   "id": "e498d38c",
   "metadata": {},
   "source": [
    "### 4.1.2 Inflation rate\n"
   ]
  },
  {
   "cell_type": "code",
   "execution_count": null,
   "id": "2b2ad8d7",
   "metadata": {},
   "outputs": [
    {
     "data": {
      "image/png": "[encoded data removed]",
      "text/plain": [
       "<Figure size 432x288 with 1 Axes>"
      ]
     },
     "metadata": {
      "needs_background": "light"
     },
     "output_type": "display_data"
    }
   ],
   "source": [
    "frecuencia, bins, p = plt.hist(df_final[\"Inflation rate\"], bins = 6, edgecolor='black')  # Ajusta el número en 'bins' según cómo quieras los intervalos\n",
    "plt.title('Histograma de la inflación')\n",
    "plt.xlabel('Valor')\n",
    "plt.ylabel('Frecuencia')\n",
    "plt.grid(True)\n",
    "plt.show()"
   ]
  },
  {
   "cell_type": "code",
   "execution_count": null,
   "id": "53f04549",
   "metadata": {},
   "outputs": [
    {
     "data": {
      "text/plain": [
       "array([2144.,  893., 1387.])"
      ]
     },
     "execution_count": 124,
     "metadata": {},
     "output_type": "execute_result"
    }
   ],
   "source": [
    "frecuencia"
   ]
  },
  {
   "cell_type": "code",
   "execution_count": null,
   "id": "618478e7",
   "metadata": {},
   "outputs": [
    {
     "data": {
      "text/plain": [
       "array([-0.8,  0.7,  2.2,  3.7])"
      ]
     },
     "execution_count": 125,
     "metadata": {},
     "output_type": "execute_result"
    }
   ],
   "source": [
    "bins"
   ]
  },
  {
   "cell_type": "markdown",
   "id": "4fcd34c1",
   "metadata": {},
   "source": [
    "Para el caso de la inflación se tomó como referencia los valores objetivo del banco de la republica de Colombia. Según la junta directiva del banco central del pais la meta de inflación anual se encuentra en un 3% y el rango aceptable se encuentra dentro del +/-1%. Según este orden de ideas, se discretizará esta variable del modelo (_Inflation rate_) de la siguiente forma:\n",
    "\n",
    "* (-1 , 1) -> Baja (B)\n",
    "* (1 , 3) -> Media (M)\n",
    "* (3 , 4) -> Alta (A)\n",
    "\n",
    "https://www.banrep.gov.co/es/glosario/meta-inflacion#:~:text=En%20Colombia%20la%20meta%20de,encuentra%20en%20el%203%20%25%20anual."
   ]
  },
  {
   "cell_type": "code",
   "execution_count": null,
   "id": "57f4b1bb",
   "metadata": {},
   "outputs": [
    {
     "name": "stderr",
     "output_type": "stream",
     "text": [
      "C:\\Users\\jgvm\\AppData\\Local\\Temp\\ipykernel_10416\\3597605696.py:7: SettingWithCopyWarning: \n",
      "A value is trying to be set on a copy of a slice from a DataFrame.\n",
      "Try using .loc[row_indexer,col_indexer] = value instead\n",
      "\n",
      "See the caveats in the documentation: https://pandas.pydata.org/pandas-docs/stable/user_guide/indexing.html#returning-a-view-versus-a-copy\n",
      "  df_final['Inflation rate new'] = pd.cut(df_final['Inflation rate'], bins = bins, labels = labels, right = True,  include_lowest=True)\n"
     ]
    },
    {
     "data": {
      "text/plain": [
       "0       M\n",
       "1       B\n",
       "2       M\n",
       "3       B\n",
       "4       B\n",
       "       ..\n",
       "4419    M\n",
       "4420    B\n",
       "4421    B\n",
       "4422    B\n",
       "4423    A\n",
       "Name: Inflation rate new, Length: 4424, dtype: category\n",
       "Categories (3, object): ['B' < 'M' < 'A']"
      ]
     },
     "execution_count": 116,
     "metadata": {},
     "output_type": "execute_result"
    }
   ],
   "source": [
    "#Se crea la lista con los rangos númericos a discretizar\n",
    "bins = [-1, 1, 3, 4]\n",
    "#Se crea la lista con las clases de la nueva variable discretizada\n",
    "labels = ['B', 'M', 'A'] \n",
    "\n",
    "#Se crea una nueva columna discretizdada dentro del dataframe final \n",
    "df_final['Inflation rate new'] = pd.cut(df_final['Inflation rate'], bins = bins, labels = labels, right = True,  include_lowest=True)\n",
    "\n",
    "#Visualización de la nueva columna discretizada\n",
    "df_final['Inflation rate new']"
   ]
  },
  {
   "cell_type": "markdown",
   "id": "2bdf4f32",
   "metadata": {},
   "source": [
    "### 4.1.3 Previous qualification (grade)"
   ]
  },
  {
   "cell_type": "code",
   "execution_count": null,
   "id": "e6da44c2",
   "metadata": {},
   "outputs": [
    {
     "data": {
      "image/png": "[encoded data removed]",
      "text/plain": [
       "<Figure size 432x288 with 1 Axes>"
      ]
     },
     "metadata": {
      "needs_background": "light"
     },
     "output_type": "display_data"
    }
   ],
   "source": [
    "frecuencia, bins, p = plt.hist(df_final[\"Previous qualification (grade)\"], bins = 6, edgecolor='black')  \n",
    "plt.title('Histograma de Previous qualifications (grade)')\n",
    "plt.xlabel('Valor')\n",
    "plt.ylabel('Frecuencia')\n",
    "plt.grid(True)\n",
    "plt.show()"
   ]
  },
  {
   "cell_type": "code",
   "execution_count": null,
   "id": "54951b91",
   "metadata": {},
   "outputs": [
    {
     "data": {
      "text/plain": [
       "array([ 237., 1069., 2326.,  588.,  184.,   20.])"
      ]
     },
     "execution_count": 128,
     "metadata": {},
     "output_type": "execute_result"
    }
   ],
   "source": [
    "frecuencia"
   ]
  },
  {
   "cell_type": "code",
   "execution_count": null,
   "id": "e82d8ffd",
   "metadata": {},
   "outputs": [
    {
     "data": {
      "text/plain": [
       "184.0"
      ]
     },
     "execution_count": 139,
     "metadata": {},
     "output_type": "execute_result"
    }
   ],
   "source": [
    "bins\n",
    "4.6*40"
   ]
  },
  {
   "cell_type": "markdown",
   "id": "034048ea",
   "metadata": {},
   "source": [
    "El sistema actual de valoración de los estudiantes en Colombia se rige por el decreto 1920 del 2009. En este se estipula 4 categorias en los que se clasifican los estudiantes según sus resultados academicos. A continuación se presentan dichas categorias y su representación cuantitativa:\n",
    "\n",
    "* (0.0, 2.9) -> Desempeño Bajo\n",
    "* (3.0, 3.9) -> Desempeño Basico\n",
    "* (4.0, 4.5) -> Desemepeño Alto\n",
    "* (4.6, 5.0) -> Desempeño Superior\n",
    "\n",
    "Según lo anterior, se procederá a clasificar de la misma forma la variable continua _Previous quailification (grade)_ que se encuentra dentro del modelo. Por lo tanto, será necesario ajustar los rangos cualitativos respecto a nuestra variable ya que esta tiene un rango entre 0 a 200 puntos. Según este orden de ideas, la clasificación cualitativa estará representada de la siguiente forma:\n",
    "\n",
    "* (0.0, 116) -> Desempeño Bajo\n",
    "* (117, 156) -> Desempeño Basico\n",
    "* (157, 180) -> Desempeño Alto\n",
    "* (181, 200) -> Desemepeño Superior\n",
    "\n",
    "\n",
    "https://www.mineducacion.gov.co/1621/articles-213769_archivo_pdf_evaluacion.pdf"
   ]
  },
  {
   "cell_type": "code",
   "execution_count": null,
   "id": "21c36220",
   "metadata": {},
   "outputs": [
    {
     "name": "stderr",
     "output_type": "stream",
     "text": [
      "C:\\Users\\jgvm\\AppData\\Local\\Temp\\ipykernel_10416\\3833586287.py:6: SettingWithCopyWarning: \n",
      "A value is trying to be set on a copy of a slice from a DataFrame.\n",
      "Try using .loc[row_indexer,col_indexer] = value instead\n",
      "\n",
      "See the caveats in the documentation: https://pandas.pydata.org/pandas-docs/stable/user_guide/indexing.html#returning-a-view-versus-a-copy\n",
      "  df_final['Previous qualification (grade) new'] = pd.cut(df_final['Previous qualification (grade)'], bins = bins, labels = labels, right = True,  include_lowest=True)\n"
     ]
    },
    {
     "data": {
      "text/plain": [
       "0       Desemp. Basico\n",
       "1         Desemp. Alto\n",
       "2       Desemp. Basico\n",
       "3       Desemp. Basico\n",
       "4         Desemp. Bajo\n",
       "             ...      \n",
       "4419    Desemp. Basico\n",
       "4420    Desemp. Basico\n",
       "4421    Desemp. Basico\n",
       "4422      Desemp. Alto\n",
       "4423    Desemp. Basico\n",
       "Name: Previous qualification (grade) new, Length: 4424, dtype: category\n",
       "Categories (4, object): ['Desemp. Bajo' < 'Desemp. Basico' < 'Desemp. Alto' < 'Desemp. Superior']"
      ]
     },
     "execution_count": 140,
     "metadata": {},
     "output_type": "execute_result"
    }
   ],
   "source": [
    "#Se crea la lista con las clases de la nueva variable discretizada\n",
    "labels = ['Desemp. Bajo', 'Desemp. Basico', 'Desemp. Alto', 'Desemp. Superior']\n",
    "bins = [0, 116, 156, 180, 200]\n",
    "\n",
    "#Se crea una nueva columna discretizdada dentro del dataframe final \n",
    "df_final['Previous qualification (grade) new'] = pd.cut(df_final['Previous qualification (grade)'], bins = bins, labels = labels, right = True,  include_lowest=True)\n",
    "\n",
    "#Visualización de la nueva columna discretizada\n",
    "df_final['Previous qualification (grade) new']"
   ]
  },
  {
   "cell_type": "markdown",
   "id": "4eb005bc",
   "metadata": {},
   "source": [
    "### 4.1.3 Curricular units 1st sem (grade)\n",
    "\n",
    "Para discretizar la variable *Curricular units 1st sem (grade)* inicialmente se revisa la distribución de los datos usando el método describe del objeto df_new."
   ]
  },
  {
   "cell_type": "code",
   "execution_count": null,
   "id": "b26493af",
   "metadata": {},
   "outputs": [
    {
     "data": {
      "text/plain": [
       "count    4424.000000\n",
       "mean       10.640822\n",
       "std         4.843663\n",
       "min         0.000000\n",
       "25%        11.000000\n",
       "50%        12.285714\n",
       "75%        13.400000\n",
       "max        18.875000\n",
       "Name: Curricular units 1st sem (grade), dtype: float64"
      ]
     },
     "execution_count": 24,
     "metadata": {},
     "output_type": "execute_result"
    }
   ],
   "source": [
    "df_new[\"Curricular units 1st sem (grade)\"].describe()"
   ]
  },
  {
   "cell_type": "markdown",
   "id": "7f5772f2",
   "metadata": {},
   "source": [
    "Para discretizar las variables se visualizan los datos a través de un histograma y de esta forma establecer junto con los rangos intercuartílicos los niveles de la variable."
   ]
  },
  {
   "cell_type": "code",
   "execution_count": 47,
   "id": "2c0291bd",
   "metadata": {},
   "outputs": [
    {
     "data": {
      "text/plain": [
       "<Axes: xlabel='Curricular units 1st sem (grade)', ylabel='Count'>"
      ]
     },
     "execution_count": 47,
     "metadata": {},
     "output_type": "execute_result"
    },
    {
     "data": {
      "image/png": "[encoded data removed]",
      "text/plain": [
       "<Figure size 640x480 with 1 Axes>"
      ]
     },
     "metadata": {},
     "output_type": "display_data"
    }
   ],
   "source": [
    "sns.histplot(df_new, x = \"Curricular units 1st sem (grade)\", binwidth=2)"
   ]
  },
  {
   "cell_type": "markdown",
   "id": "4dc4252b",
   "metadata": {},
   "source": [
    "De acuerdo con el histograma se observa que las notas menores que 10 corresponden a niveles muy bajos de la variable *Curricular units 1st sem (grade)* esto sumado a que solo el 25% de los estudiantes obtienen esta calificación que se concentra en el cero. Por otra parte, los valores entre 10 y 12 constituyen valores bajos dado que extrapolando las las calificaciones de 0 a 5 sería necesacio un 12 para poder aprobar; entre 12 y 14 el desempeño es básico dado que es la mínima nota de aprobación; entre 14 y 16 se considera un desempeño alto y finalmente desempeño superior las notas mayores que 16. Los niveles quedan de la siguiente forma:\n",
    "\n",
    "* [0, 10) -> Desempeño Bajo\n",
    "* [10, 12) -> Desempeño Básico\n",
    "* [12, 14) -> Desempeño Alto\n",
    "* [14, 20] -> Desemepeño Superior"
   ]
  },
  {
   "cell_type": "code",
   "execution_count": 48,
   "id": "7e02786e",
   "metadata": {},
   "outputs": [
    {
     "name": "stderr",
     "output_type": "stream",
     "text": [
      "C:\\Users\\jeison.orjuela\\AppData\\Local\\Temp\\ipykernel_17836\\2267426020.py:6: SettingWithCopyWarning: \n",
      "A value is trying to be set on a copy of a slice from a DataFrame.\n",
      "Try using .loc[row_indexer,col_indexer] = value instead\n",
      "\n",
      "See the caveats in the documentation: https://pandas.pydata.org/pandas-docs/stable/user_guide/indexing.html#returning-a-view-versus-a-copy\n",
      "  df_final['Curricular units 1st sem (grade) new'] = pd.cut(df_final['Curricular units 1st sem (grade)'], bins = bins2, labels = labels, right = True,  include_lowest=True)\n"
     ]
    },
    {
     "data": {
      "text/plain": [
       "0       Desemp. Muy Bajo\n",
       "1         Desemp. Basico\n",
       "2       Desemp. Muy Bajo\n",
       "3         Desemp. Basico\n",
       "4         Desemp. Basico\n",
       "              ...       \n",
       "4419      Desemp. Basico\n",
       "4420        Desemp. Bajo\n",
       "4421        Desemp. Alto\n",
       "4422      Desemp. Basico\n",
       "4423        Desemp. Bajo\n",
       "Name: Curricular units 1st sem (grade) new, Length: 4424, dtype: category\n",
       "Categories (5, object): ['Desemp. Muy Bajo' < 'Desemp. Bajo' < 'Desemp. Basico' < 'Desemp. Alto' < 'Desemp. Superior']"
      ]
     },
     "execution_count": 48,
     "metadata": {},
     "output_type": "execute_result"
    }
   ],
   "source": [
    "#Se crea la lista con las clases de la nueva variable discretizada\n",
    "labels = ['Desemp. Muy Bajo', 'Desemp. Bajo', 'Desemp. Basico', 'Desemp. Alto', 'Desemp. Superior']\n",
    "bins2 = [0, 10, 12, 14, 16, 20]\n",
    "\n",
    "#Se crea una nueva columna discretizdada dentro del dataframe final \n",
    "df_final['Curricular units 1st sem (grade) new'] = pd.cut(df_final['Curricular units 1st sem (grade)'], bins = bins2, labels = labels, right = True,  include_lowest=True)\n",
    "\n",
    "#Visualización de la nueva columna discretizada\n",
    "df_final['Curricular units 1st sem (grade) new']"
   ]
  },
  {
   "cell_type": "markdown",
   "id": "14bd1b9b",
   "metadata": {},
   "source": [
    "## 4.1.4 GDP\n",
    "\n",
    "Para discretizar la variable GDP se ve la distribución de la variable con la función describe, posteriormente se visualiza la distribución de la variable usando un histograma y se definen los niveles de la variable discretizada."
   ]
  },
  {
   "cell_type": "code",
   "execution_count": 49,
   "id": "c6da9711",
   "metadata": {},
   "outputs": [
    {
     "data": {
      "text/plain": [
       "count    4424.000000\n",
       "mean        0.001969\n",
       "std         2.269935\n",
       "min        -4.060000\n",
       "25%        -1.700000\n",
       "50%         0.320000\n",
       "75%         1.790000\n",
       "max         3.510000\n",
       "Name: GDP, dtype: float64"
      ]
     },
     "execution_count": 49,
     "metadata": {},
     "output_type": "execute_result"
    }
   ],
   "source": [
    "df_new[\"GDP\"].describe()"
   ]
  },
  {
   "cell_type": "code",
   "execution_count": 63,
   "id": "eb170b01",
   "metadata": {},
   "outputs": [
    {
     "data": {
      "text/plain": [
       "<Axes: xlabel='GDP', ylabel='Count'>"
      ]
     },
     "execution_count": 63,
     "metadata": {},
     "output_type": "execute_result"
    },
    {
     "data": {
      "image/png": "[encoded data removed]",
      "text/plain": [
       "<Figure size 640x480 with 1 Axes>"
      ]
     },
     "metadata": {},
     "output_type": "display_data"
    }
   ],
   "source": [
    "sns.histplot(df_new, x = \"GDP\")"
   ]
  },
  {
   "cell_type": "code",
   "execution_count": 64,
   "id": "9940edc5",
   "metadata": {},
   "outputs": [
    {
     "name": "stderr",
     "output_type": "stream",
     "text": [
      "C:\\Users\\jeison.orjuela\\AppData\\Local\\Temp\\ipykernel_17836\\3526079528.py:9: SettingWithCopyWarning: \n",
      "A value is trying to be set on a copy of a slice from a DataFrame.\n",
      "Try using .loc[row_indexer,col_indexer] = value instead\n",
      "\n",
      "See the caveats in the documentation: https://pandas.pydata.org/pandas-docs/stable/user_guide/indexing.html#returning-a-view-versus-a-copy\n",
      "  df_final['GDP new'] = pd.cut(df_final['GDP'], bins = bins3, labels = labels, right = True,  include_lowest=True)\n"
     ]
    },
    {
     "data": {
      "text/plain": [
       "0          GDP. Medio\n",
       "1          GDP. Medio\n",
       "2          GDP. Medio\n",
       "3       GDP. Muy Bajo\n",
       "4          GDP. Medio\n",
       "            ...      \n",
       "4419    GDP. Muy Bajo\n",
       "4420        GDP. Alto\n",
       "4421       GDP. Medio\n",
       "4422    GDP. Muy Bajo\n",
       "4423        GDP. Bajo\n",
       "Name: GDP new, Length: 4424, dtype: category\n",
       "Categories (4, object): ['GDP. Muy Bajo' < 'GDP. Bajo' < 'GDP. Medio' < 'GDP. Alto']"
      ]
     },
     "execution_count": 64,
     "metadata": {},
     "output_type": "execute_result"
    }
   ],
   "source": [
    "#df_final.sort_values(by=\"GDP\", ascending=True).head(100)\n",
    "#df_final.groupby(by=[\"GDP\"]).agg({'GDP':['count']})\n",
    "\n",
    "#Se crea la lista con las clases de la nueva variable discretizada\n",
    "labels = ['GDP. Muy Bajo', 'GDP. Bajo', 'GDP. Medio', 'GDP. Alto']\n",
    "bins3 = [-5, -2, 0, 1.79, 5]\n",
    "\n",
    "#Se crea una nueva columna discretizdada dentro del dataframe final \n",
    "df_final['GDP new'] = pd.cut(df_final['GDP'], bins = bins3, labels = labels, right = True,  include_lowest=True)\n",
    "\n",
    "#Visualización de la nueva columna discretizada\n",
    "df_final['GDP new']"
   ]
  },
  {
   "cell_type": "markdown",
   "id": "8c349b3a",
   "metadata": {},
   "source": [
    "## 4.1.5 Unemployment Rate"
   ]
  },
  {
   "cell_type": "code",
   "execution_count": 66,
   "id": "257aacae",
   "metadata": {},
   "outputs": [
    {
     "data": {
      "text/plain": [
       "count    4424.000000\n",
       "mean       11.566139\n",
       "std         2.663850\n",
       "min         7.600000\n",
       "25%         9.400000\n",
       "50%        11.100000\n",
       "75%        13.900000\n",
       "max        16.200000\n",
       "Name: Unemployment rate, dtype: float64"
      ]
     },
     "execution_count": 66,
     "metadata": {},
     "output_type": "execute_result"
    }
   ],
   "source": [
    "df_new[\"Unemployment rate\"].describe()"
   ]
  },
  {
   "cell_type": "code",
   "execution_count": 67,
   "id": "4c8ddfb3",
   "metadata": {},
   "outputs": [
    {
     "data": {
      "text/plain": [
       "<Axes: xlabel='Unemployment rate', ylabel='Count'>"
      ]
     },
     "execution_count": 67,
     "metadata": {},
     "output_type": "execute_result"
    },
    {
     "data": {
      "image/png": "[encoded data removed]",
      "text/plain": [
       "<Figure size 640x480 with 1 Axes>"
      ]
     },
     "metadata": {},
     "output_type": "display_data"
    }
   ],
   "source": [
    "sns.histplot(df_new, x = \"Unemployment rate\")"
   ]
  },
  {
   "cell_type": "code",
   "execution_count": 71,
   "id": "9ab08632",
   "metadata": {},
   "outputs": [
    {
     "data": {
      "text/plain": [
       "0          Unemployment R. Medio\n",
       "1           Unemployment R. Alto\n",
       "2          Unemployment R. Medio\n",
       "3           Unemployment R. Bajo\n",
       "4           Unemployment R. Alto\n",
       "                  ...           \n",
       "4419    Unemployment R. Superior\n",
       "4420       Unemployment R. Medio\n",
       "4421        Unemployment R. Alto\n",
       "4422        Unemployment R. Bajo\n",
       "4423        Unemployment R. Alto\n",
       "Name: Unemployment rate new, Length: 4424, dtype: category\n",
       "Categories (4, object): ['Unemployment R. Bajo' < 'Unemployment R. Medio' < 'Unemployment R. Alto' < 'Unemployment R. Superior']"
      ]
     },
     "execution_count": 71,
     "metadata": {},
     "output_type": "execute_result"
    }
   ],
   "source": [
    "#Se crea la lista con las clases de la nueva variable discretizada\n",
    "labels = ['Unemployment R. Bajo', 'Unemployment R. Medio', 'Unemployment R. Alto', 'Unemployment R. Superior']\n",
    "bins4 = [0, 9.4, 11.1, 13.9, 17]\n",
    "\n",
    "#Se crea una nueva columna discretizdada dentro del dataframe final \n",
    "df_final['Unemployment rate new'] = pd.cut(df_final['Unemployment rate'], bins = bins4, labels = labels, right = True,  include_lowest=True)\n",
    "\n",
    "#Visualización de la nueva columna discretizada\n",
    "df_final['Unemployment rate new']\n",
    "\n",
    "#df_final.groupby(by=[\"Unemployment rate\"]).agg({'GDP':['count']})"
   ]
  },
  {
   "cell_type": "markdown",
   "id": "022b705e",
   "metadata": {},
   "source": [
    "## 4.2 Variables Discretas"
   ]
  },
  {
   "cell_type": "markdown",
   "id": "489027f0",
   "metadata": {},
   "source": [
    "### 4.2.1 Course"
   ]
  },
  {
   "cell_type": "code",
   "execution_count": null,
   "id": "b4699c4e",
   "metadata": {},
   "outputs": [
    {
     "data": {
      "text/plain": [
       "[171, 9254, 9070, 9773, 8014, ..., 9556, 9147, 9003, 33, 9119]\n",
       "Length: 17\n",
       "Categories (17, int64): [33, 171, 8014, 9003, ..., 9670, 9773, 9853, 9991]"
      ]
     },
     "execution_count": 151,
     "metadata": {},
     "output_type": "execute_result"
    }
   ],
   "source": [
    "# Valores unicos \n",
    "df_final[\"Course\"].unique()"
   ]
  },
  {
   "cell_type": "code",
   "execution_count": null,
   "id": "0df849d0",
   "metadata": {},
   "outputs": [
    {
     "data": {
      "text/plain": [
       "9500    766\n",
       "9147    380\n",
       "9238    355\n",
       "9085    337\n",
       "9773    331\n",
       "9670    268\n",
       "9991    268\n",
       "9254    252\n",
       "9070    226\n",
       "171     215\n",
       "8014    215\n",
       "9003    210\n",
       "9853    192\n",
       "9119    170\n",
       "9130    141\n",
       "9556     86\n",
       "33       12\n",
       "Name: Course, dtype: int64"
      ]
     },
     "execution_count": 109,
     "metadata": {},
     "output_type": "execute_result"
    }
   ],
   "source": [
    "# Frecuencia de los valores unicos\n",
    "df_final[\"Course\"].value_counts()"
   ]
  },
  {
   "cell_type": "markdown",
   "id": "1f73c92e",
   "metadata": {},
   "source": [
    "### 4.2.1.1 Reducción de Categorias de la variable Course\n",
    "\n",
    "Al aplicar la función _unique()_ sobre la columna de la variable _Course_ se logra identificar que existen **17** categorias. Por lo tanto, para reducir la cantidad de niveles se procederá a crear nuevas categorias donde exista alguna relación entre las demas y así reducir el número de niveles para esta variable categorica.\n",
    "\n",
    "Entonces, al visualizar detalladamente las categorias actuales se logró identificar 5 nuevas categorias en donde se podía reagrupar las categorias actuales. Lo anterior se puede observar de la siguiente forma:\n",
    "\n",
    "1. Ciencias Exactas (1):\n",
    "    - Biofuel Production Technologies (33)\n",
    "    - Informatics Engineering (9119)\n",
    "    - Management (9147)\n",
    "    - Management (evening attendance) (9991)\n",
    "    \n",
    "\n",
    "2. Diseño (2):\n",
    "    - Animation and Multimedia Design (171)\n",
    "    - Communication Design (9070)\n",
    "    - Advertising and Marketing Management (9670)\n",
    "    \n",
    "\n",
    "3. Ciencias Sociales (3):\n",
    "    - Social Service (evening attendance) (8014)\n",
    "    - Social Service (9238)\n",
    "    - Tourism (9254)\n",
    "    - Journalism and Communication (9773) \n",
    "    - Basic Education (9853)\n",
    "    \n",
    "    \n",
    "4. Ciencias Agrarias (4):\n",
    "    - Agronomy (9003)\n",
    "    - Equinculture (9130)\n",
    "    \n",
    "    \n",
    "5. Ciencias de la Salud (5):\n",
    "    - Veterinary Nursing (9085)\n",
    "    - Nursing (9500)\n",
    "    - Oral Hygiene (9556)"
   ]
  },
  {
   "cell_type": "code",
   "execution_count": null,
   "id": "1702fb10",
   "metadata": {},
   "outputs": [
    {
     "name": "stdout",
     "output_type": "stream",
     "text": [
      "                Course new  Course\n",
      "0                   Diseño     171\n",
      "1        Ciencias Sociales    9254\n",
      "2                   Diseño    9070\n",
      "3        Ciencias Sociales    9773\n",
      "4        Ciencias Sociales    8014\n",
      "...                    ...     ...\n",
      "4419     Ciencias Sociales    9773\n",
      "4420     Ciencias Sociales    9773\n",
      "4421  Ciencias de la Salud    9500\n",
      "4422      Ciencias Exactas    9147\n",
      "4423     Ciencias Sociales    9773\n",
      "\n",
      "[4424 rows x 2 columns]\n"
     ]
    }
   ],
   "source": [
    "# Actualización de la nueva columna de Course reducida en categorias\n",
    "nuevas_categorias = {\"Ciencias Exactas\":[33,9119,9147,9991], \"Diseño\":[171,9070,9670], \"Ciencias Sociales\":[8014,9238,9254,9773,9853], \"Ciencias Agrarias\":[9003,9130], \"Ciencias de la Salud\":[9085, 9500,9556]}\n",
    "\n",
    "df['Course new'] = df['Course'].copy()\n",
    "\n",
    "# Itera sobre las llaves y valores del diccionario\n",
    "for nuevo_valor, lista_valores in nuevas_categorias.items():\n",
    "    # Usa el método 'replace' para actualizar los valores en la nueva columna\n",
    "    df['Course new'] = df['Course new'].replace(lista_valores, nuevo_valor)\n",
    "\n",
    "# Verifica el resultado\n",
    "print(df[['Course new','Course']])"
   ]
  },
  {
   "cell_type": "code",
   "execution_count": null,
   "id": "865ed7e6",
   "metadata": {},
   "outputs": [],
   "source": []
  },
  {
   "cell_type": "code",
   "execution_count": null,
   "id": "f8d5ceaa",
   "metadata": {},
   "outputs": [],
   "source": []
  }
 ],
 "metadata": {
  "kernelspec": {
   "display_name": "Python 3 (ipykernel)",
   "language": "python",
   "name": "python3"
  },
  "language_info": {
   "codemirror_mode": {
    "name": "ipython",
    "version": 3
   },
   "file_extension": ".py",
   "mimetype": "text/x-python",
   "name": "python",
   "nbconvert_exporter": "python",
   "pygments_lexer": "ipython3",
   "version": "3.11.4"
  }
 },
 "nbformat": 4,
 "nbformat_minor": 5
}
